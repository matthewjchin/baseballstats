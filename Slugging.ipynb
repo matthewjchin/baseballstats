{
 "cells": [
  {
   "cell_type": "markdown",
   "metadata": {},
   "source": [
    "# Slugging Percentages\n",
    "## Author: Matthew Chin (2021)\n",
    "\n",
    "**Data**\n",
    "https://github.com/chadwickbureau/baseballdatabank"
   ]
  },
  {
   "cell_type": "code",
   "execution_count": null,
   "metadata": {},
   "outputs": [],
   "source": [
    "# plotly standard imports\n",
    "import plotly.graph_objs as go\n",
    "import chart_studio.plotly as py\n",
    "\n",
    "# Cufflinks wrapper on plotly\n",
    "import cufflinks\n",
    "\n",
    "# Data science imports\n",
    "import pandas as pd\n",
    "import numpy as np\n",
    "\n",
    "# Options for pandas\n",
    "pd.options.display.max_columns = 999\n",
    "\n",
    "# Display all cell outputs\n",
    "from IPython.core.interactiveshell import InteractiveShell\n",
    "InteractiveShell.ast_node_interactivity = 'all'\n",
    "\n",
    "# from __future__ import print_function, division\n",
    "import matplotlib as mpl\n",
    "import matplotlib.pyplot as plt\n",
    "\n",
    "\n",
    "from plotly.offline import iplot\n",
    "cufflinks.go_offline()\n",
    "\n",
    "# Set global theme\n",
    "cufflinks.set_config_file(world_readable=True, theme='pearl')"
   ]
  },
  {
   "cell_type": "markdown",
   "metadata": {},
   "source": [
    "## Slugging Percentage\n",
    "\n",
    "A batter's slugging percentage involves not only how frequently but how far they get on base when they hit. When they go to bat and they get on base safely with a hit, it increases their chances at getting home. In that case, one's slugging percentage will go up if they hit a single, but goes even farther up if they get on safely with an extra base hit (XBH) or with a home run and touch all four bases. \n",
    "\n",
    "Extra base hits and home runs matter for the significance of one's slugging percentage because the power and speed of a batter are considered to know how many bases they touch per at-bat.  \n",
    "\n",
    "Walks or base on balls (BB) are not considered because they are not hits. \n",
    "\n",
    "The formula for slugging is as follows \n",
    "(Reference: https://www.mlb.com/glossary/standard-stats/slugging-percentage#:~:text=Definition,hits%20are%20not%20valued%20equally.):"
   ]
  },
  {
   "cell_type": "markdown",
   "metadata": {},
   "source": [
    "Let $1B$ be a single, $2B$ be a double, $3B$ be a triple, and $HR$ be a home run. \n",
    "\n",
    "The formula is:\n",
    "\n",
    "$SLG = \\frac{1B + (2\\times2B) + (3\\times3B )+ (4\\times HR)}{AB}$\n"
   ]
  },
  {
   "cell_type": "code",
   "execution_count": null,
   "metadata": {},
   "outputs": [],
   "source": [
    "# Get slugging percentages from Batting data\n",
    "slugpct = pd.read_csv(\"https://raw.githubusercontent.com/chadwickbureau/baseballdatabank/master/core/Batting.csv\",sep=',')"
   ]
  },
  {
   "cell_type": "code",
   "execution_count": null,
   "metadata": {},
   "outputs": [],
   "source": [
    "# Get batters who are sluggers from People data\n",
    "slugppl = pd.read_csv(\"https://raw.githubusercontent.com/chadwickbureau/baseballdatabank/master/core/People.csv\",sep=',')"
   ]
  },
  {
   "cell_type": "code",
   "execution_count": null,
   "metadata": {},
   "outputs": [],
   "source": [
    "# Sample of slugpct beginning or end values\n",
    "# Later cells are the most recent statistics\n",
    "\n",
    "# slugpct.head()\n",
    "slugpct.tail()\n"
   ]
  },
  {
   "cell_type": "code",
   "execution_count": null,
   "metadata": {},
   "outputs": [],
   "source": [
    "# Show dataframe values\n",
    "slugpct"
   ]
  },
  {
   "cell_type": "code",
   "execution_count": null,
   "metadata": {},
   "outputs": [],
   "source": [
    "# Print array values\n",
    "slugarr = slugpct.to_numpy()\n",
    "slugarr"
   ]
  },
  {
   "cell_type": "code",
   "execution_count": null,
   "metadata": {},
   "outputs": [],
   "source": [
    "# Keep these columns names\n",
    "slugpct.columns"
   ]
  },
  {
   "cell_type": "code",
   "execution_count": null,
   "metadata": {},
   "outputs": [],
   "source": [
    "import csv\n",
    "fcsv = \"slugpctAL_2019.csv\"\n",
    "fcsv2 = \"slugpctNL_2019.csv\"\n",
    "mean_ba = \"mean_ba.csv\"\n",
    "# len(slugpct)\n",
    "# len(slugarr)"
   ]
  },
  {
   "cell_type": "markdown",
   "metadata": {},
   "source": [
    "<h1>Abbreviations</h1>\n",
    "\n",
    "G       Games played<br>\n",
    "AB      At-bats<br>\n",
    "R       Runs<br>\n",
    "H       Hits<br>\n",
    "B       Singles (1 base)<br>\n",
    "2B      Doubles (2 bases)<br>\n",
    "3B      Triples (3 bases)<br>\n",
    "HR      Home Runs (4 bases)<br>\n",
    "RBI     Runs Batted In<br>\n",
    "SB      Stolen Bases<br>\n",
    "CS      Caught Stealing<br>\n",
    "BB      Base on Balls/Walks<br>\n",
    "SO      Struck Out<br>\n",
    "IBB     Intentional Base on Balls/Intentional Walks<br>\n",
    "HBP     Hit By Pitch<br>\n",
    "SH      Sacrifice Bunt<br>\n",
    "SF      Sacrifice Fly<br>\n",
    "GIDP    Grounded Into Double Play<br>\n",
    "BA      Batting Average<br>\n",
    "SLG     Slugging Percentage<br>\n",
    "OBP     On-Base Percentage<br>\n",
    "OPS     On-base percentage Plus Slugging<br>\n"
   ]
  },
  {
   "cell_type": "code",
   "execution_count": null,
   "metadata": {},
   "outputs": [],
   "source": [
    "# Take 2019 data\n",
    "# Get data from American League (AL) in players with at least 50 ABs & 25 hits\n",
    "# Write to new CSV file called 'slugpct.csv'\n",
    "\n",
    "# # old columns:\n",
    "# 'playerID', 'yearID', 'stint', 'teamID', 'lgID', 'G', 'AB', 'R', 'H',\n",
    "#        '2B', '3B', 'HR', 'RBI', 'SB', 'CS', 'BB', 'SO', 'IBB', 'HBP', 'SH',\n",
    "#        'SF', 'GIDP'\n",
    "\n",
    "newrows = ['playerID', 'yearID', 'stint', 'teamID', 'lgID', 'G', 'AB', 'R', \n",
    "            'H', 'B', '2B', '3B', 'HR', 'RBI', 'SB', 'CS', \n",
    "            'BB', 'SO', 'IBB', 'HBP', 'SH', 'SF', 'GIDP', 'BA', 'SLG', 'OBP', 'OPS'\n",
    "            ]"
   ]
  },
  {
   "cell_type": "code",
   "execution_count": null,
   "metadata": {},
   "outputs": [],
   "source": [
    "# AL 2019 data\n",
    "# AL slugging pct in 2019 by players with at least 50 ABs & 25 hits\n",
    "\n",
    "with open(fcsv, 'w') as csvfile:\n",
    "    csvwriter = csv.writer(csvfile)\n",
    "    csvwriter.writerow(newrows)\n",
    "    for a in slugarr:\n",
    "        if a[1] == 2019 and a[4] == 'AL' and a[6] >= 50 and a[8] >= 25:\n",
    "            slg = ((a[8]-(a[9]+a[10]+a[11])) + (2*a[9]) + (3*a[10]) + (4*a[11]))/a[6]\n",
    "            bavg = a[8]/a[6]\n",
    "            obp = (a[8] + a[15] + a[18]) / (a[6] + a[15] + a[18] + a[20])\n",
    "            ops = obp + slg\n",
    "            csvwriter.writerow([a[0], a[1], a[2], a[3], a[4], a[5], a[6], a[7], a[8],\n",
    "                (a[8]-(a[9]+a[10]+a[11])), a[9], a[10], a[11], a[12], a[13], a[14], a[15], \n",
    "                a[16], a[17], a[18], a[19], a[20], a[21], \n",
    "                bavg, slg, obp, ops])"
   ]
  },
  {
   "cell_type": "code",
   "execution_count": null,
   "metadata": {},
   "outputs": [],
   "source": [
    "# AL 2019 data in Pandas dataframe\n",
    "\n",
    "al_sluggers = pd.read_csv(fcsv)\n",
    "# al_sluggers"
   ]
  },
  {
   "cell_type": "code",
   "execution_count": null,
   "metadata": {},
   "outputs": [],
   "source": [
    "# NL 2019 data\n",
    "# NL slugging pct in 2019 by players with at least 50 ABs & 25 hits\n",
    "\n",
    "\n",
    "with open(fcsv2, 'w') as csvfile:\n",
    "    csvwriter = csv.writer(csvfile)\n",
    "    csvwriter.writerow(newrows)\n",
    "    for a in slugarr:   \n",
    "        if a[1] == 2019 and a[4] == 'NL' and a[6] >= 50 and a[8] >= 25:\n",
    "            slg = ((a[8]-(a[9]+a[10]+a[11])) + (2*a[9]) + (3*a[10]) + (4*a[11]))/a[6]\n",
    "            bavg = a[8]/a[6]\n",
    "            obp = (a[8] + a[15] + a[18]) / (a[6] + a[15] + a[18] + a[20])\n",
    "            ops = obp + slg\n",
    "            csvwriter.writerow([a[0], a[1], a[2], a[3], a[4], a[5], a[6], a[7], a[8],\n",
    "                (a[8]-(a[9]+a[10]+a[11])), a[9], a[10], a[11], a[12], a[13], a[14], a[15], \n",
    "                a[16], a[17], a[18], a[19], a[20], a[21], \n",
    "                bavg, slg, obp, ops])"
   ]
  },
  {
   "cell_type": "code",
   "execution_count": null,
   "metadata": {},
   "outputs": [],
   "source": [
    "# NL 2019 BA\n",
    "\n",
    "nl_sluggers = pd.read_csv(fcsv2)\n",
    "plt.xlabel(\"At Bats\")\n",
    "plt.ylabel(\"Hits\")\n",
    "plt.title(\"NL Batters Batting Average, 2019\")\n",
    "plt.scatter(nl_sluggers.AB, nl_sluggers.H)\n",
    "plt.show()"
   ]
  },
  {
   "cell_type": "code",
   "execution_count": null,
   "metadata": {},
   "outputs": [],
   "source": [
    "# Test Scatterplot 1\n",
    "%matplotlib inline\n",
    "\n",
    "plt.scatter(slugpct.H, slugpct.AB)"
   ]
  },
  {
   "cell_type": "code",
   "execution_count": null,
   "metadata": {},
   "outputs": [],
   "source": [
    "# AL 2019 BA \n",
    "plt.xlabel(\"At Bats\")\n",
    "plt.ylabel(\"Hits\")\n",
    "plt.title(\"AL Batters Batting Average, 2019\")\n",
    "plt.scatter(al_sluggers.AB, al_sluggers.H)\n",
    "plt.show()"
   ]
  },
  {
   "cell_type": "code",
   "execution_count": null,
   "metadata": {},
   "outputs": [],
   "source": [
    "# slugpct.yearID\n",
    "# 150 years total\n",
    "yr = 1871 # First year statistics were recorded in baseball\n",
    "slugpct.tail()\n",
    "# slugarr"
   ]
  },
  {
   "cell_type": "code",
   "execution_count": null,
   "metadata": {},
   "outputs": [],
   "source": [
    "# Calculate the mean batting average of all players in the past 150 MLB seasons\n",
    "\n",
    "avg_ba = 0\n",
    "pplct = 0\n",
    "add_ab = 0\n",
    "add_h = 0\n",
    "yr = 1871 \n",
    "# yr_counter = 0\n",
    "\n",
    "with open(mean_ba, 'w') as csvfile:\n",
    "    csvwriter = csv.writer(csvfile)\n",
    "    csvwriter.writerow(['Year', 'Total Batters', 'Mean AB', 'Mean H', 'Mean BA'])\n",
    "    for a in slugarr:\n",
    "        \n",
    "        if a[1] == yr:\n",
    "            pplct += 1\n",
    "            add_ab += a[6]\n",
    "            add_h += a[8]\n",
    "        else:\n",
    "            csvwriter.writerow([yr, pplct, add_ab, add_h, add_h/add_ab])\n",
    "            yr += 1\n",
    "            avg_ba = 0\n",
    "            pplct = 0\n",
    "            add_ab = 0\n",
    "            add_h = 0\n",
    "    avg_ba = 0\n",
    "    pplct = 0\n",
    "    add_ab = 0\n",
    "    add_h = 0\n",
    "    for a in slugarr:\n",
    "        if a[1] == 2020:\n",
    "            pplct += 1\n",
    "            add_ab += a[6]\n",
    "            add_h += a[8]\n",
    "    csvwriter.writerow([yr, pplct, add_ab, add_h, add_h/add_ab])\n"
   ]
  },
  {
   "cell_type": "code",
   "execution_count": null,
   "metadata": {},
   "outputs": [],
   "source": [
    "year_ba = pd.read_csv(mean_ba)\n",
    "year_ba.tail()"
   ]
  },
  {
   "cell_type": "code",
   "execution_count": null,
   "metadata": {},
   "outputs": [],
   "source": [
    "# Show mean batting average in line graph\n",
    "\n",
    "%matplotlib inline\n",
    "plt.plot(year_ba['Year'], year_ba['Mean BA'])\n",
    "plt.title(\"Leaguewide Batting Average\")\n",
    "plt.xlabel(\"Year of Season\")\n",
    "plt.ylabel(\"Mean Batting Average\")\n",
    "plt.show()\n",
    "\n"
   ]
  },
  {
   "cell_type": "markdown",
   "metadata": {},
   "source": [
    "<h1>On-Base Percentage (OBP)</h1>\n",
    "\n",
    "On-Base Percentage (OBP) is a batter's average of how often they get on base. Statistics not only include hits and extra base hits, but consider walks (base on balls/BBs), intentional walks (IBBs), hit-by-pitches (HBPs), and sacrifice flies (SFs).\n",
    "\n",
    "Equation:\n",
    "OBP = (Hits + Walks + Hit by Pitch) / (At Bats + Walks + Hit by Pitch + Sacrifice Flies) \n",
    "\n",
    "$OBP = \\frac{H + BB + HBP}{AB + BB + HBP + SF}$\n"
   ]
  },
  {
   "cell_type": "code",
   "execution_count": null,
   "metadata": {},
   "outputs": [],
   "source": [
    "# Take Brandon Crawford's (SF; 'crawfbr01') stats\n",
    "# 11 years of stats, make array of size 11\n",
    "bcraw_stats = [None] * 10\n",
    "bcraw_stats = [None] * 11\n",
    "counter = 0\n",
    "\n",
    "for a in slugarr:\n",
    "    if a[0] == 'crawfbr01':\n",
    "        # new_list = ()\n",
    "        bcraw_stats[counter] = a\n",
    "        # print(a)\n",
    "        counter+=1\n",
    "\n",
    "# # Add 2021 stats[\n",
    "bc35_stats_21 = ['crawfbr01', 2021, 1, 'SFN', 'NL', 138, 483, 79, 144, 30, 3, 24, 90, 11, 3, 56, 105, 6, 5, 0, 5, 8]\n",
    "\n",
    "bcraw_stats[10] = np.asarray(bc35_stats_21, dtype=object)\n",
    "bcraw_stats\n"
   ]
  },
  {
   "cell_type": "markdown",
   "metadata": {},
   "source": [
    "We will use Brandon Crawford's statistics from the 2011 to 2020 seasons. He is a shortstop for the San Francisco Giants.\n",
    "\n",
    "To calculate Crawford's career slugging percentage, we will take the hits, walks, hit-by-pitches, at-bats, and sacrifice flies in his career."
   ]
  },
  {
   "cell_type": "code",
   "execution_count": null,
   "metadata": {},
   "outputs": [],
   "source": [
    "bc35_stats = pd.DataFrame(bcraw_stats)\n",
    "bc35_stats.rename(columns={0:'playerID', 1:'yearID', 2:'stint', 3:'teamID', 4:'lgID', 5:'G', 6:'AB', 7:'R', 8:'H',\n",
    "       9:'2B', 10:'3B', 11:'HR', 12:'RBI', 13:'SB', 14:'CS', 15:'BB', 16:'SO', 17:'IBB', 18:'HBP', 19:'SH',\n",
    "       20:'SF', 21:'GIDP'}, inplace=True)\n",
    "\n",
    "bc35_stats"
   ]
  },
  {
   "cell_type": "code",
   "execution_count": null,
   "metadata": {},
   "outputs": [],
   "source": [
    "bc35_stats.describe()"
   ]
  },
  {
   "cell_type": "code",
   "execution_count": null,
   "metadata": {},
   "outputs": [],
   "source": [
    "bc_ab = bc35_stats['AB'].sum()\n",
    "bc_h = bc35_stats['H'].sum()\n",
    "bc_b = bc_h - (bc35_stats['2B'].sum() + bc35_stats['3B'].sum() + bc35_stats['HR'].sum())\n",
    "bc_hbp = bc35_stats['HBP'].sum()\n",
    "bc_bb = bc35_stats['BB'].sum()\n",
    "bc_sf = bc35_stats['SF'].sum()\n"
   ]
  },
  {
   "cell_type": "code",
   "execution_count": null,
   "metadata": {},
   "outputs": [],
   "source": [
    "bc_obp = (bc_h + bc_bb + bc_hbp) / (bc_ab + bc_bb + bc_hbp + bc_sf)\n",
    "print(\"Crawford career OBP:\",bc_obp)\n",
    "\n",
    "bc_yrs = [2011, 2012, 2013, 2014, 2015, 2016, 2017, 2018, 2019, 2020, 2021]\n",
    "# bc35_stats"
   ]
  },
  {
   "cell_type": "code",
   "execution_count": null,
   "metadata": {},
   "outputs": [],
   "source": [
    "# OBP per season\n",
    "# bc_obp10 = [None] * 10\n",
    "bc_obp10 = [None] * 11\n",
    "counter = 0\n",
    "for a in bcraw_stats:\n",
    "    bc_obp10[counter] = (a[8] + a[15] + a[18]) / (a[6] + a[15] + a[18] + a[20])\n",
    "    counter += 1\n",
    "bc_obp10\n"
   ]
  },
  {
   "cell_type": "code",
   "execution_count": null,
   "metadata": {},
   "outputs": [],
   "source": [
    "# OBP over the years\n",
    "\n",
    "plt.plot(bc_yrs, bc_obp10)\n",
    "plt.xlabel(\"Season\")\n",
    "plt.ylabel(\"On Base Percentage\")\n",
    "plt.title(\"Brandon Crawford OBP, 2011-2021\")\n",
    "plt.show()\n"
   ]
  },
  {
   "cell_type": "markdown",
   "metadata": {},
   "source": [
    "<h1>On-Base Plus Slugging (OPS)</h1>\n",
    "\n",
    "On-base Plus Slugging (OPS) is a percentage statistic commonly used in Sabermetrics to determine how much of an impact that a baseball player has on their team in terms of scoring and generating baserunners to get to home plate and score. \n",
    "\n",
    "Generally, an OPS percentage of $.800$ is a bare minimum for most MLB All-Stars; winners of the American League or National League Most Valuable Player Awards given at the end of each season usually have OPS of a range between at least .920 and 1.000 in that season.\n",
    "\n",
    "$OPS = OBP + SLG$\n",
    "\n",
    "We will continue to use Brandon Crawford's stats. "
   ]
  },
  {
   "cell_type": "code",
   "execution_count": null,
   "metadata": {},
   "outputs": [],
   "source": [
    "bc_slg = (bc_b + (2*bc35_stats['2B'].sum()) + (3*bc35_stats['3B'].sum()) + (4*bc35_stats['HR'].sum())) / bc_ab\n",
    "\n",
    "print(\"Crawford career OBP:\",bc_obp, \n",
    "\"\\nCrawford career SLG:\", bc_slg, \n",
    "\"\\nCrawford career OPS:\", bc_obp + bc_slg)"
   ]
  },
  {
   "cell_type": "code",
   "execution_count": null,
   "metadata": {},
   "outputs": [],
   "source": [
    "bc35_stats"
   ]
  },
  {
   "cell_type": "code",
   "execution_count": null,
   "metadata": {},
   "outputs": [],
   "source": [
    "# SLG per season\n",
    "# bc_slg10 = [None] * 10\n",
    "bc_slg10 = [None] * 11\n",
    "counter = 0\n",
    "for a in bcraw_stats:\n",
    "    singles = a[8] - (a[9] + a[10] + a[11])\n",
    "    bc_slg10[counter] = (singles + (2*a[9]) + (3*a[10]) + (4*a[11])) / (a[6])\n",
    "    counter += 1\n",
    "\n",
    "bc_slg10"
   ]
  },
  {
   "cell_type": "code",
   "execution_count": null,
   "metadata": {},
   "outputs": [],
   "source": [
    "# SLG over the years\n",
    "\n",
    "plt.plot(bc_yrs, bc_slg10)\n",
    "plt.xlabel(\"Season\")\n",
    "plt.ylabel(\"Slugging Percentage\")\n",
    "plt.title(\"Brandon Crawford SLG, 2011-2021\")\n",
    "plt.show()\n"
   ]
  },
  {
   "cell_type": "code",
   "execution_count": null,
   "metadata": {},
   "outputs": [],
   "source": [
    "# OPS per season\n",
    "\n",
    "# bc_ops10 = [None] * 10\n",
    "bc_ops10 = [None] * 11\n",
    "counter = 0\n",
    "for a in bc_obp10:\n",
    "    bc_ops10[counter] = bc_obp10[counter] + bc_slg10[counter]\n",
    "    counter += 1\n",
    "\n",
    "bc_ops10"
   ]
  },
  {
   "cell_type": "code",
   "execution_count": null,
   "metadata": {},
   "outputs": [],
   "source": [
    "# SLG over the years\n",
    "\n",
    "plt.plot(bc_yrs, bc_ops10)\n",
    "plt.xlabel(\"Season\")\n",
    "plt.ylabel(\"On Base Plus Slugging\")\n",
    "plt.title(\"Brandon Crawford OPS, 2011-2021\")\n",
    "plt.show()\n"
   ]
  },
  {
   "cell_type": "code",
   "execution_count": null,
   "metadata": {},
   "outputs": [],
   "source": []
  },
  {
   "cell_type": "code",
   "execution_count": null,
   "metadata": {},
   "outputs": [],
   "source": []
  }
 ],
 "metadata": {
  "interpreter": {
   "hash": "aee8b7b246df8f9039afb4144a1f6fd8d2ca17a180786b69acc140d282b71a49"
  },
  "kernelspec": {
   "display_name": "Python 3",
   "language": "python",
   "name": "python3"
  },
  "language_info": {
   "codemirror_mode": {
    "name": "ipython",
    "version": 3
   },
   "file_extension": ".py",
   "mimetype": "text/x-python",
   "name": "python",
   "nbconvert_exporter": "python",
   "pygments_lexer": "ipython3",
   "version": "3.8.3"
  }
 },
 "nbformat": 4,
 "nbformat_minor": 2
}
