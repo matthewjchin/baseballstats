{
 "cells": [
  {
   "cell_type": "markdown",
   "metadata": {},
   "source": [
    "# Slugging Percentages\n",
    "## Author: Matthew Chin (2021)\n",
    "\n",
    "**Data**\n",
    "https://github.com/chadwickbureau/baseballdatabank"
   ]
  },
  {
   "cell_type": "code",
   "execution_count": null,
   "metadata": {},
   "outputs": [],
   "source": [
    "# plotly standard imports\n",
    "import plotly.graph_objs as go\n",
    "import chart_studio.plotly as py\n",
    "\n",
    "# Cufflinks wrapper on plotly\n",
    "import cufflinks\n",
    "\n",
    "# Data science imports\n",
    "import pandas as pd\n",
    "import numpy as np\n",
    "\n",
    "# Options for pandas\n",
    "pd.options.display.max_columns = 999\n",
    "\n",
    "# Display all cell outputs\n",
    "from IPython.core.interactiveshell import InteractiveShell\n",
    "InteractiveShell.ast_node_interactivity = 'all'\n",
    "\n",
    "# from __future__ import print_function, division\n",
    "import matplotlib as mpl\n",
    "import matplotlib.pyplot as plt\n",
    "\n",
    "\n",
    "from plotly.offline import iplot\n",
    "cufflinks.go_offline()\n",
    "\n",
    "# Set global theme\n",
    "cufflinks.set_config_file(world_readable=True, theme='pearl')"
   ]
  },
  {
   "cell_type": "markdown",
   "metadata": {},
   "source": [
    "## Slugging Percentage\n",
    "\n",
    "A batter's slugging percentage involves not only how frequently but how far they get on base when they hit. When they go to bat and they get on base safely with a hit, it increases their chances at getting home. In that case, one's slugging percentage will go up if they hit a single, but goes even farther up if they get on safely with an extra base hit (XBH) or with a home run and touch all four bases. \n",
    "\n",
    "Extra base hits and home runs matter for the significance of one's slugging percentage because the power and speed of a batter are considered to know how many bases they touch per at-bat.  \n",
    "\n",
    "Walks or base on balls (BB) are not considered because they are not hits. \n",
    "\n",
    "The formula for slugging is as follows \n",
    "(Reference: https://www.mlb.com/glossary/standard-stats/slugging-percentage#:~:text=Definition,hits%20are%20not%20valued%20equally.):"
   ]
  },
  {
   "cell_type": "markdown",
   "metadata": {},
   "source": [
    "Let $1B$ be a single, $2B$ be a double, $3B$ be a triple, and $HR$ be a home run. \n",
    "\n",
    "The formula is:\n",
    "\n",
    "$SLG = \\frac{1B + (2\\times2B) + (3\\times3B )+ (4\\times HR)}{AB}$\n"
   ]
  },
  {
   "cell_type": "code",
   "execution_count": null,
   "metadata": {},
   "outputs": [],
   "source": [
    "# Get slugging percentages from Batting data\n",
    "slugpct = pd.read_csv(\"https://raw.githubusercontent.com/chadwickbureau/baseballdatabank/master/core/Batting.csv\",sep=',')"
   ]
  },
  {
   "cell_type": "code",
   "execution_count": null,
   "metadata": {},
   "outputs": [],
   "source": [
    "# Get batters who are sluggers from People data\n",
    "slugppl = pd.read_csv(\"https://raw.githubusercontent.com/chadwickbureau/baseballdatabank/master/core/People.csv\",sep=',')"
   ]
  },
  {
   "cell_type": "code",
   "execution_count": null,
   "metadata": {},
   "outputs": [],
   "source": [
    "# Sample of slugpct beginning or end values\n",
    "# Later cells are the most recent statistics\n",
    "\n",
    "# slugpct.head()\n",
    "slugpct.tail()\n"
   ]
  },
  {
   "cell_type": "code",
   "execution_count": null,
   "metadata": {},
   "outputs": [],
   "source": [
    "# Show dataframe values\n",
    "slugpct"
   ]
  },
  {
   "cell_type": "code",
   "execution_count": null,
   "metadata": {},
   "outputs": [],
   "source": [
    "# Print array values\n",
    "slugarr = slugpct.to_numpy()\n",
    "slugarr"
   ]
  },
  {
   "cell_type": "code",
   "execution_count": null,
   "metadata": {},
   "outputs": [],
   "source": [
    "# Keep these columns names\n",
    "slugpct.columns"
   ]
  },
  {
   "cell_type": "code",
   "execution_count": null,
   "metadata": {},
   "outputs": [],
   "source": [
    "import csv\n",
    "fcsv = \"slugpctAL_2019.csv\"\n",
    "fcsv2 = \"slugpctNL_2019.csv\"\n",
    "mean_ba = \"mean_ba.csv\"\n",
    "# len(slugpct)\n",
    "# len(slugarr)"
   ]
  },
  {
   "cell_type": "markdown",
   "metadata": {},
   "source": [
    "<h1>Abbreviations</h1>\n",
    "\n",
    "G       Games played<br>\n",
    "AB      At-bats<br>\n",
    "R       Runs<br>\n",
    "H       Hits<br>\n",
    "B       Singles (1 base)<br>\n",
    "2B      Doubles (2 bases)<br>\n",
    "3B      Triples (3 bases)<br>\n",
    "HR      Home Runs (4 bases)<br>\n",
    "RBI     Runs Batted In<br>\n",
    "SB      Stolen Bases<br>\n",
    "CS      Caught Stealing<br>\n",
    "BB      Base on Balls/Walks<br>\n",
    "SO      Struck Out<br>\n",
    "IBB     Intentional Base on Balls/Intentional Walks<br>\n",
    "HBP     Hit By Pitch<br>\n",
    "SH      Sacrifice Bunt<br>\n",
    "SF      Sacrifice Fly<br>\n",
    "GIDP    Grounded Into Double Play<br>\n",
    "BA      Batting Average<br>\n",
    "SLG     Slugging Percentage<br>\n",
    "OBP     On-Base Percentage<br>\n",
    "OPS     On-base percentage Plus Slugging<br>\n"
   ]
  },
  {
   "cell_type": "code",
   "execution_count": null,
   "metadata": {},
   "outputs": [],
   "source": [
    "# Take 2019 data\n",
    "# Get data from American League (AL) in players with at least 50 ABs & 25 hits\n",
    "# Write to new CSV file called 'slugpct.csv'\n",
    "\n",
    "# # old columns:\n",
    "# 'playerID', 'yearID', 'stint', 'teamID', 'lgID', 'G', 'AB', 'R', 'H',\n",
    "#        '2B', '3B', 'HR', 'RBI', 'SB', 'CS', 'BB', 'SO', 'IBB', 'HBP', 'SH',\n",
    "#        'SF', 'GIDP'\n",
    "\n",
    "newrows = ['playerID', 'yearID', 'stint', 'teamID', 'lgID', 'G', 'AB', 'R', \n",
    "            'H', 'B', '2B', '3B', 'HR', 'RBI', 'SB', 'CS', \n",
    "            'BB', 'SO', 'IBB', 'HBP', 'SH', 'SF', 'GIDP', 'BA', 'SLG', 'OBP', 'OPS'\n",
    "            ]"
   ]
  },
  {
   "cell_type": "code",
   "execution_count": null,
   "metadata": {},
   "outputs": [],
   "source": [
    "# AL 2019 data\n",
    "# AL slugging pct in 2019 by players with at least 50 ABs & 25 hits\n",
    "\n",
    "with open(fcsv, 'w') as csvfile:\n",
    "    csvwriter = csv.writer(csvfile)\n",
    "    csvwriter.writerow(newrows)\n",
    "    for a in slugarr:\n",
    "        if a[1] == 2019 and a[4] == 'AL' and a[6] >= 50 and a[8] >= 25:\n",
    "            slg = ((a[8]-(a[9]+a[10]+a[11])) + (2*a[9]) + (3*a[10]) + (4*a[11]))/a[6]\n",
    "            bavg = a[8]/a[6]\n",
    "            obp = (a[8] + a[15] + a[18]) / (a[6] + a[15] + a[18] + a[20])\n",
    "            ops = obp + slg\n",
    "            csvwriter.writerow([a[0], a[1], a[2], a[3], a[4], a[5], a[6], a[7], a[8],\n",
    "                (a[8]-(a[9]+a[10]+a[11])), a[9], a[10], a[11], a[12], a[13], a[14], a[15], \n",
    "                a[16], a[17], a[18], a[19], a[20], a[21], \n",
    "                bavg, slg, obp, ops])"
   ]
  },
  {
   "cell_type": "code",
   "execution_count": null,
   "metadata": {},
   "outputs": [],
   "source": [
    "# AL 2019 data in Pandas dataframe\n",
    "\n",
    "al_sluggers = pd.read_csv(fcsv)\n",
    "# al_sluggers"
   ]
  },
  {
   "cell_type": "code",
   "execution_count": null,
   "metadata": {},
   "outputs": [],
   "source": [
    "# NL 2019 data\n",
    "# NL slugging pct in 2019 by players with at least 50 ABs & 25 hits\n",
    "\n",
    "\n",
    "with open(fcsv2, 'w') as csvfile:\n",
    "    csvwriter = csv.writer(csvfile)\n",
    "    csvwriter.writerow(newrows)\n",
    "    for a in slugarr:   \n",
    "        if a[1] == 2019 and a[4] == 'NL' and a[6] >= 50 and a[8] >= 25:\n",
    "            slg = ((a[8]-(a[9]+a[10]+a[11])) + (2*a[9]) + (3*a[10]) + (4*a[11]))/a[6]\n",
    "            bavg = a[8]/a[6]\n",
    "            obp = (a[8] + a[15] + a[18]) / (a[6] + a[15] + a[18] + a[20])\n",
    "            ops = obp + slg\n",
    "            csvwriter.writerow([a[0], a[1], a[2], a[3], a[4], a[5], a[6], a[7], a[8],\n",
    "                (a[8]-(a[9]+a[10]+a[11])), a[9], a[10], a[11], a[12], a[13], a[14], a[15], \n",
    "                a[16], a[17], a[18], a[19], a[20], a[21], \n",
    "                bavg, slg, obp, ops])"
   ]
  },
  {
   "cell_type": "code",
   "execution_count": null,
   "metadata": {},
   "outputs": [],
   "source": [
    "# NL 2019 BA\n",
    "\n",
    "nl_sluggers = pd.read_csv(fcsv2)\n",
    "plt.xlabel(\"At Bats\")\n",
    "plt.ylabel(\"Hits\")\n",
    "plt.title(\"NL Batters Batting Average, 2019\")\n",
    "plt.scatter(nl_sluggers.AB, nl_sluggers.H)\n",
    "plt.show()"
   ]
  },
  {
   "cell_type": "code",
   "execution_count": null,
   "metadata": {},
   "outputs": [],
   "source": [
    "# Test Scatterplot 1\n",
    "%matplotlib inline\n",
    "\n",
    "plt.scatter(slugpct.H, slugpct.AB)"
   ]
  },
  {
   "cell_type": "code",
   "execution_count": null,
   "metadata": {},
   "outputs": [],
   "source": [
    "# AL 2019 BA \n",
    "plt.xlabel(\"At Bats\")\n",
    "plt.ylabel(\"Hits\")\n",
    "plt.title(\"AL Batters Batting Average, 2019\")\n",
    "plt.scatter(al_sluggers.AB, al_sluggers.H)\n",
    "plt.show()"
   ]
  },
  {
   "cell_type": "code",
   "execution_count": null,
   "metadata": {},
   "outputs": [],
   "source": [
    "# slugpct.yearID\n",
    "# 150 years total\n",
    "yr = 1871 # First year statistics were recorded in baseball\n",
    "slugpct.tail()\n",
    "# slugarr"
   ]
  },
  {
   "cell_type": "code",
   "execution_count": null,
   "metadata": {},
   "outputs": [],
   "source": [
    "# Calculate the mean batting average of all players in the past 150 MLB seasons\n",
    "\n",
    "avg_ba = 0\n",
    "pplct = 0\n",
    "add_ab = 0\n",
    "add_h = 0\n",
    "yr = 1871 \n",
    "# yr_counter = 0\n",
    "\n",
    "with open(mean_ba, 'w') as csvfile:\n",
    "    csvwriter = csv.writer(csvfile)\n",
    "    csvwriter.writerow(['Year', 'Total Batters', 'Mean AB', 'Mean H', 'Mean BA'])\n",
    "    for a in slugarr:\n",
    "        \n",
    "        if a[1] == yr:\n",
    "            pplct += 1\n",
    "            add_ab += a[6]\n",
    "            add_h += a[8]\n",
    "        else:\n",
    "            csvwriter.writerow([yr, pplct, add_ab, add_h, add_h/add_ab])\n",
    "            yr += 1\n",
    "            avg_ba = 0\n",
    "            pplct = 0\n",
    "            add_ab = 0\n",
    "            add_h = 0\n",
    "    avg_ba = 0\n",
    "    pplct = 0\n",
    "    add_ab = 0\n",
    "    add_h = 0\n",
    "    for a in slugarr:\n",
    "        if a[1] == 2020:\n",
    "            pplct += 1\n",
    "            add_ab += a[6]\n",
    "            add_h += a[8]\n",
    "    csvwriter.writerow([yr, pplct, add_ab, add_h, add_h/add_ab])\n"
   ]
  },
  {
   "cell_type": "code",
   "execution_count": null,
   "metadata": {},
   "outputs": [],
   "source": [
    "year_ba = pd.read_csv(mean_ba)\n",
    "year_ba.tail()"
   ]
  },
  {
   "cell_type": "code",
   "execution_count": null,
   "metadata": {},
   "outputs": [],
   "source": [
    "# Show mean batting average in line graph\n",
    "\n",
    "%matplotlib inline\n",
    "plt.plot(year_ba['Year'], year_ba['Mean BA'])\n",
    "plt.title(\"Leaguewide Batting Average\")\n",
    "plt.xlabel(\"Year of Season\")\n",
    "plt.ylabel(\"Mean Batting Average\")\n",
    "plt.show()\n",
    "\n"
   ]
  },
  {
   "cell_type": "markdown",
   "metadata": {},
   "source": [
    "<h1>On-Base Percentage (OBP)</h1>\n",
    "\n",
    "On-Base Percentage (OBP) is a batter's average of how often they get on base. Statistics not only include hits and extra base hits, but consider walks (base on balls/BBs), intentional walks (IBBs), hit-by-pitches (HBPs), and sacrifice flies (SFs).\n",
    "\n",
    "Equation:\n",
    "OBP = (Hits + Walks + Hit by Pitch) / (At Bats + Walks + Hit by Pitch + Sacrifice Flies) \n",
    "\n",
    "$OBP = \\frac{H + BB + HBP}{AB + BB + HBP + SF}$\n"
   ]
  },
  {
   "cell_type": "code",
   "execution_count": null,
   "metadata": {},
   "outputs": [],
   "source": [
    "# Take Brandon Crawford's (SF; 'crawfbr01') stats\n",
    "# 10 years of stats, make array of size 10\n",
    "bcraw_stats = [None] * 10\n",
    "counter = 0\n",
    "\n",
    "for a in slugarr:\n",
    "    if a[0] == 'crawfbr01':\n",
    "        bcraw_stats[counter] = a\n",
    "        # print(a)\n",
    "        counter+=1\n",
    "# bcraw_stats.loc\n",
    "# # Add 2021 stats[\n",
    "# bc35_stats_21 = [array(['crawfbr01', 2021, 1, 'SFN', 'NL', 138, 483, 79, 144, 30, 3, 24, 90, 11, 3, 56, 105, 6, 5, 0, 5, 8])]\n",
    "\n",
    "# bcraw_stats[10] = bc35_stats_21\n",
    "# bcraw_stats\n"
   ]
  },
  {
   "cell_type": "markdown",
   "metadata": {},
   "source": [
    "We will use Brandon Crawford's statistics from the 2011 to 2020 seasons. He is a shortstop for the San Francisco Giants.\n",
    "\n",
    "To calculate Crawford's career slugging percentage, we will take the hits, walks, hit-by-pitches, at-bats, and sacrifice flies in his career."
   ]
  },
  {
   "cell_type": "code",
   "execution_count": null,
   "metadata": {},
   "outputs": [],
   "source": [
    "bc35_stats = pd.DataFrame(bcraw_stats)\n",
    "bc35_stats.rename(columns={0:'playerID', 1:'yearID', 2:'stint', 3:'teamID', 4:'lgID', 5:'G', 6:'AB', 7:'R', 8:'H',\n",
    "       9:'2B', 10:'3B', 11:'HR', 12:'RBI', 13:'SB', 14:'CS', 15:'BB', 16:'SO', 17:'IBB', 18:'HBP', 19:'SH',\n",
    "       20:'SF', 21:'GIDP'}, inplace=True)\n",
    "\n",
    "# bc35_stats.append(bc35_stats_21)\n",
    "bc35_stats"
   ]
  },
  {
   "cell_type": "code",
   "execution_count": null,
   "metadata": {},
   "outputs": [],
   "source": [
    "bc35_stats.describe()"
   ]
  },
  {
   "cell_type": "code",
   "execution_count": null,
   "metadata": {},
   "outputs": [],
   "source": [
    "bc_ab = bc35_stats['AB'].sum()\n",
    "bc_h = bc35_stats['H'].sum()\n",
    "bc_b = bc_h - (bc35_stats['2B'].sum() + bc35_stats['3B'].sum() + bc35_stats['HR'].sum())\n",
    "bc_hbp = bc35_stats['HBP'].sum()\n",
    "bc_bb = bc35_stats['BB'].sum()\n",
    "bc_sf = bc35_stats['SF'].sum()\n"
   ]
  },
  {
   "cell_type": "code",
   "execution_count": 145,
   "metadata": {},
   "outputs": [
    {
     "name": "stdout",
     "output_type": "stream",
     "text": [
      "Crawford career OBP: 0.3166156982670744\n"
     ]
    }
   ],
   "source": [
    "bc_obp = (bc_h + bc_bb + bc_hbp) / (bc_ab + bc_bb + bc_hbp + bc_sf)\n",
    "print(\"Crawford career OBP:\",bc_obp)\n",
    "\n",
    "bc_yrs = [2011, 2012, 2013, 2014, 2015, 2016, 2017, 2018, 2019, 2020]\n",
    "# bc35_stats"
   ]
  },
  {
   "cell_type": "code",
   "execution_count": 140,
   "metadata": {},
   "outputs": [
    {
     "data": {
      "text/plain": [
       "[0.2876712328767123,\n",
       " 0.3037974683544304,\n",
       " 0.3114754098360656,\n",
       " 0.3238434163701068,\n",
       " 0.32085561497326204,\n",
       " 0.3418940609951846,\n",
       " 0.30526315789473685,\n",
       " 0.32491582491582494,\n",
       " 0.30357142857142855,\n",
       " 0.32642487046632124]"
      ]
     },
     "execution_count": 140,
     "metadata": {},
     "output_type": "execute_result"
    }
   ],
   "source": [
    "# OBP per season\n",
    "bc_obp10 = [None] * 10\n",
    "counter = 0\n",
    "for a in bcraw_stats:\n",
    "    bc_obp10[counter] = (a[8] + a[15] + a[18]) / (a[6] + a[15] + a[18] + a[20])\n",
    "    counter += 1\n",
    "bc_obp10\n"
   ]
  },
  {
   "cell_type": "code",
   "execution_count": 146,
   "metadata": {},
   "outputs": [
    {
     "data": {
      "text/plain": [
       "[<matplotlib.lines.Line2D at 0x7feb88eb1dc0>]"
      ]
     },
     "execution_count": 146,
     "metadata": {},
     "output_type": "execute_result"
    },
    {
     "data": {
      "text/plain": [
       "Text(0.5, 0, 'Season')"
      ]
     },
     "execution_count": 146,
     "metadata": {},
     "output_type": "execute_result"
    },
    {
     "data": {
      "text/plain": [
       "Text(0, 0.5, 'On Base Percentage')"
      ]
     },
     "execution_count": 146,
     "metadata": {},
     "output_type": "execute_result"
    },
    {
     "data": {
      "text/plain": [
       "Text(0.5, 1.0, 'Brandon Crawford OBP, 2011-2020')"
      ]
     },
     "execution_count": 146,
     "metadata": {},
     "output_type": "execute_result"
    },
    {
     "data": {
      "image/png": "[encoded data removed]",
      "text/plain": [
       "<Figure size 432x288 with 1 Axes>"
      ]
     },
     "metadata": {
      "needs_background": "light"
     },
     "output_type": "display_data"
    }
   ],
   "source": [
    "# OBP over the years\n",
    "\n",
    "plt.plot(bc_yrs, bc_obp10)\n",
    "plt.xlabel(\"Season\")\n",
    "plt.ylabel(\"On Base Percentage\")\n",
    "plt.title(\"Brandon Crawford OBP, 2011-2020\")\n",
    "plt.show()\n"
   ]
  },
  {
   "cell_type": "markdown",
   "metadata": {},
   "source": [
    "<h1>On-Base Plus Slugging (OPS)</h1>\n",
    "\n",
    "On-base Plus Slugging (OPS) is a percentage statistic commonly used in Sabermetrics to determine how much of an impact that a baseball player has on their team in terms of scoring and generating baserunners to get to home plate and score. \n",
    "\n",
    "Generally, an OPS percentage of $.800$ is a bare minimum for most MLB All-Stars; winners of the American League or National League Most Valuable Player Awards given at the end of each season usually have OPS of a range between at least .920 and 1.000 in that season.\n",
    "\n",
    "$OPS = OBP + SLG$\n",
    "\n",
    "We will continue to use Brandon Crawford's stats. "
   ]
  },
  {
   "cell_type": "code",
   "execution_count": null,
   "metadata": {},
   "outputs": [],
   "source": [
    "bc_slg = (bc_b + (2*bc35_stats['2B'].sum()) + (3*bc35_stats['3B'].sum()) + (4*bc35_stats['HR'].sum())) / bc_ab\n",
    "\n",
    "print(\"Crawford career OBP:\",bc_obp, \n",
    "\"\\nCrawford career SLG:\", bc_slg, \n",
    "\"\\nCrawford career OPS:\", bc_obp + bc_slg)"
   ]
  },
  {
   "cell_type": "code",
   "execution_count": 138,
   "metadata": {},
   "outputs": [
    {
     "data": {
      "text/html": [
       "<div>\n",
       "<style scoped>\n",
       "    .dataframe tbody tr th:only-of-type {\n",
       "        vertical-align: middle;\n",
       "    }\n",
       "\n",
       "    .dataframe tbody tr th {\n",
       "        vertical-align: top;\n",
       "    }\n",
       "\n",
       "    .dataframe thead th {\n",
       "        text-align: right;\n",
       "    }\n",
       "</style>\n",
       "<table border=\"1\" class=\"dataframe\">\n",
       "  <thead>\n",
       "    <tr style=\"text-align: right;\">\n",
       "      <th></th>\n",
       "      <th>playerID</th>\n",
       "      <th>yearID</th>\n",
       "      <th>stint</th>\n",
       "      <th>teamID</th>\n",
       "      <th>lgID</th>\n",
       "      <th>G</th>\n",
       "      <th>AB</th>\n",
       "      <th>R</th>\n",
       "      <th>H</th>\n",
       "      <th>2B</th>\n",
       "      <th>3B</th>\n",
       "      <th>HR</th>\n",
       "      <th>RBI</th>\n",
       "      <th>SB</th>\n",
       "      <th>CS</th>\n",
       "      <th>BB</th>\n",
       "      <th>SO</th>\n",
       "      <th>IBB</th>\n",
       "      <th>HBP</th>\n",
       "      <th>SH</th>\n",
       "      <th>SF</th>\n",
       "      <th>GIDP</th>\n",
       "    </tr>\n",
       "  </thead>\n",
       "  <tbody>\n",
       "    <tr>\n",
       "      <th>0</th>\n",
       "      <td>crawfbr01</td>\n",
       "      <td>2011</td>\n",
       "      <td>1</td>\n",
       "      <td>SFN</td>\n",
       "      <td>NL</td>\n",
       "      <td>66</td>\n",
       "      <td>196</td>\n",
       "      <td>22</td>\n",
       "      <td>40</td>\n",
       "      <td>5</td>\n",
       "      <td>2</td>\n",
       "      <td>3</td>\n",
       "      <td>21.0</td>\n",
       "      <td>1.0</td>\n",
       "      <td>3.0</td>\n",
       "      <td>23</td>\n",
       "      <td>31.0</td>\n",
       "      <td>1.0</td>\n",
       "      <td>0.0</td>\n",
       "      <td>1.0</td>\n",
       "      <td>0.0</td>\n",
       "      <td>4.0</td>\n",
       "    </tr>\n",
       "    <tr>\n",
       "      <th>1</th>\n",
       "      <td>crawfbr01</td>\n",
       "      <td>2012</td>\n",
       "      <td>1</td>\n",
       "      <td>SFN</td>\n",
       "      <td>NL</td>\n",
       "      <td>143</td>\n",
       "      <td>435</td>\n",
       "      <td>44</td>\n",
       "      <td>108</td>\n",
       "      <td>26</td>\n",
       "      <td>3</td>\n",
       "      <td>4</td>\n",
       "      <td>45.0</td>\n",
       "      <td>1.0</td>\n",
       "      <td>4.0</td>\n",
       "      <td>33</td>\n",
       "      <td>95.0</td>\n",
       "      <td>6.0</td>\n",
       "      <td>3.0</td>\n",
       "      <td>2.0</td>\n",
       "      <td>3.0</td>\n",
       "      <td>4.0</td>\n",
       "    </tr>\n",
       "    <tr>\n",
       "      <th>2</th>\n",
       "      <td>crawfbr01</td>\n",
       "      <td>2013</td>\n",
       "      <td>1</td>\n",
       "      <td>SFN</td>\n",
       "      <td>NL</td>\n",
       "      <td>149</td>\n",
       "      <td>499</td>\n",
       "      <td>52</td>\n",
       "      <td>124</td>\n",
       "      <td>24</td>\n",
       "      <td>3</td>\n",
       "      <td>9</td>\n",
       "      <td>43.0</td>\n",
       "      <td>1.0</td>\n",
       "      <td>2.0</td>\n",
       "      <td>42</td>\n",
       "      <td>96.0</td>\n",
       "      <td>6.0</td>\n",
       "      <td>5.0</td>\n",
       "      <td>1.0</td>\n",
       "      <td>3.0</td>\n",
       "      <td>10.0</td>\n",
       "    </tr>\n",
       "    <tr>\n",
       "      <th>3</th>\n",
       "      <td>crawfbr01</td>\n",
       "      <td>2014</td>\n",
       "      <td>1</td>\n",
       "      <td>SFN</td>\n",
       "      <td>NL</td>\n",
       "      <td>153</td>\n",
       "      <td>491</td>\n",
       "      <td>54</td>\n",
       "      <td>121</td>\n",
       "      <td>20</td>\n",
       "      <td>10</td>\n",
       "      <td>10</td>\n",
       "      <td>69.0</td>\n",
       "      <td>5.0</td>\n",
       "      <td>3.0</td>\n",
       "      <td>59</td>\n",
       "      <td>129.0</td>\n",
       "      <td>10.0</td>\n",
       "      <td>2.0</td>\n",
       "      <td>2.0</td>\n",
       "      <td>10.0</td>\n",
       "      <td>4.0</td>\n",
       "    </tr>\n",
       "    <tr>\n",
       "      <th>4</th>\n",
       "      <td>crawfbr01</td>\n",
       "      <td>2015</td>\n",
       "      <td>1</td>\n",
       "      <td>SFN</td>\n",
       "      <td>NL</td>\n",
       "      <td>143</td>\n",
       "      <td>507</td>\n",
       "      <td>65</td>\n",
       "      <td>130</td>\n",
       "      <td>33</td>\n",
       "      <td>4</td>\n",
       "      <td>21</td>\n",
       "      <td>84.0</td>\n",
       "      <td>6.0</td>\n",
       "      <td>4.0</td>\n",
       "      <td>39</td>\n",
       "      <td>119.0</td>\n",
       "      <td>9.0</td>\n",
       "      <td>11.0</td>\n",
       "      <td>0.0</td>\n",
       "      <td>4.0</td>\n",
       "      <td>18.0</td>\n",
       "    </tr>\n",
       "    <tr>\n",
       "      <th>5</th>\n",
       "      <td>crawfbr01</td>\n",
       "      <td>2016</td>\n",
       "      <td>1</td>\n",
       "      <td>SFN</td>\n",
       "      <td>NL</td>\n",
       "      <td>155</td>\n",
       "      <td>553</td>\n",
       "      <td>67</td>\n",
       "      <td>152</td>\n",
       "      <td>28</td>\n",
       "      <td>11</td>\n",
       "      <td>12</td>\n",
       "      <td>84.0</td>\n",
       "      <td>7.0</td>\n",
       "      <td>0.0</td>\n",
       "      <td>57</td>\n",
       "      <td>115.0</td>\n",
       "      <td>10.0</td>\n",
       "      <td>4.0</td>\n",
       "      <td>0.0</td>\n",
       "      <td>9.0</td>\n",
       "      <td>13.0</td>\n",
       "    </tr>\n",
       "    <tr>\n",
       "      <th>6</th>\n",
       "      <td>crawfbr01</td>\n",
       "      <td>2017</td>\n",
       "      <td>1</td>\n",
       "      <td>SFN</td>\n",
       "      <td>NL</td>\n",
       "      <td>144</td>\n",
       "      <td>518</td>\n",
       "      <td>58</td>\n",
       "      <td>131</td>\n",
       "      <td>34</td>\n",
       "      <td>1</td>\n",
       "      <td>14</td>\n",
       "      <td>77.0</td>\n",
       "      <td>3.0</td>\n",
       "      <td>5.0</td>\n",
       "      <td>42</td>\n",
       "      <td>113.0</td>\n",
       "      <td>3.0</td>\n",
       "      <td>1.0</td>\n",
       "      <td>0.0</td>\n",
       "      <td>9.0</td>\n",
       "      <td>18.0</td>\n",
       "    </tr>\n",
       "    <tr>\n",
       "      <th>7</th>\n",
       "      <td>crawfbr01</td>\n",
       "      <td>2018</td>\n",
       "      <td>1</td>\n",
       "      <td>SFN</td>\n",
       "      <td>NL</td>\n",
       "      <td>151</td>\n",
       "      <td>531</td>\n",
       "      <td>63</td>\n",
       "      <td>135</td>\n",
       "      <td>28</td>\n",
       "      <td>2</td>\n",
       "      <td>14</td>\n",
       "      <td>54.0</td>\n",
       "      <td>4.0</td>\n",
       "      <td>5.0</td>\n",
       "      <td>50</td>\n",
       "      <td>122.0</td>\n",
       "      <td>13.0</td>\n",
       "      <td>8.0</td>\n",
       "      <td>0.0</td>\n",
       "      <td>5.0</td>\n",
       "      <td>12.0</td>\n",
       "    </tr>\n",
       "    <tr>\n",
       "      <th>8</th>\n",
       "      <td>crawfbr01</td>\n",
       "      <td>2019</td>\n",
       "      <td>1</td>\n",
       "      <td>SFN</td>\n",
       "      <td>NL</td>\n",
       "      <td>147</td>\n",
       "      <td>500</td>\n",
       "      <td>58</td>\n",
       "      <td>114</td>\n",
       "      <td>24</td>\n",
       "      <td>2</td>\n",
       "      <td>11</td>\n",
       "      <td>59.0</td>\n",
       "      <td>3.0</td>\n",
       "      <td>2.0</td>\n",
       "      <td>53</td>\n",
       "      <td>117.0</td>\n",
       "      <td>5.0</td>\n",
       "      <td>3.0</td>\n",
       "      <td>0.0</td>\n",
       "      <td>4.0</td>\n",
       "      <td>10.0</td>\n",
       "    </tr>\n",
       "    <tr>\n",
       "      <th>9</th>\n",
       "      <td>crawfbr01</td>\n",
       "      <td>2020</td>\n",
       "      <td>1</td>\n",
       "      <td>SFN</td>\n",
       "      <td>NL</td>\n",
       "      <td>54</td>\n",
       "      <td>172</td>\n",
       "      <td>26</td>\n",
       "      <td>44</td>\n",
       "      <td>12</td>\n",
       "      <td>0</td>\n",
       "      <td>8</td>\n",
       "      <td>28.0</td>\n",
       "      <td>1.0</td>\n",
       "      <td>2.0</td>\n",
       "      <td>15</td>\n",
       "      <td>47.0</td>\n",
       "      <td>2.0</td>\n",
       "      <td>4.0</td>\n",
       "      <td>0.0</td>\n",
       "      <td>2.0</td>\n",
       "      <td>3.0</td>\n",
       "    </tr>\n",
       "  </tbody>\n",
       "</table>\n",
       "</div>"
      ],
      "text/plain": [
       "    playerID  yearID  stint teamID lgID    G   AB   R    H  2B  3B  HR   RBI  \\\n",
       "0  crawfbr01    2011      1    SFN   NL   66  196  22   40   5   2   3  21.0   \n",
       "1  crawfbr01    2012      1    SFN   NL  143  435  44  108  26   3   4  45.0   \n",
       "2  crawfbr01    2013      1    SFN   NL  149  499  52  124  24   3   9  43.0   \n",
       "3  crawfbr01    2014      1    SFN   NL  153  491  54  121  20  10  10  69.0   \n",
       "4  crawfbr01    2015      1    SFN   NL  143  507  65  130  33   4  21  84.0   \n",
       "5  crawfbr01    2016      1    SFN   NL  155  553  67  152  28  11  12  84.0   \n",
       "6  crawfbr01    2017      1    SFN   NL  144  518  58  131  34   1  14  77.0   \n",
       "7  crawfbr01    2018      1    SFN   NL  151  531  63  135  28   2  14  54.0   \n",
       "8  crawfbr01    2019      1    SFN   NL  147  500  58  114  24   2  11  59.0   \n",
       "9  crawfbr01    2020      1    SFN   NL   54  172  26   44  12   0   8  28.0   \n",
       "\n",
       "    SB   CS  BB     SO   IBB   HBP   SH    SF  GIDP  \n",
       "0  1.0  3.0  23   31.0   1.0   0.0  1.0   0.0   4.0  \n",
       "1  1.0  4.0  33   95.0   6.0   3.0  2.0   3.0   4.0  \n",
       "2  1.0  2.0  42   96.0   6.0   5.0  1.0   3.0  10.0  \n",
       "3  5.0  3.0  59  129.0  10.0   2.0  2.0  10.0   4.0  \n",
       "4  6.0  4.0  39  119.0   9.0  11.0  0.0   4.0  18.0  \n",
       "5  7.0  0.0  57  115.0  10.0   4.0  0.0   9.0  13.0  \n",
       "6  3.0  5.0  42  113.0   3.0   1.0  0.0   9.0  18.0  \n",
       "7  4.0  5.0  50  122.0  13.0   8.0  0.0   5.0  12.0  \n",
       "8  3.0  2.0  53  117.0   5.0   3.0  0.0   4.0  10.0  \n",
       "9  1.0  2.0  15   47.0   2.0   4.0  0.0   2.0   3.0  "
      ]
     },
     "execution_count": 138,
     "metadata": {},
     "output_type": "execute_result"
    }
   ],
   "source": [
    "bc35_stats"
   ]
  },
  {
   "cell_type": "code",
   "execution_count": 142,
   "metadata": {},
   "outputs": [
    {
     "data": {
      "text/plain": [
       "[0.29591836734693877,\n",
       " 0.34942528735632183,\n",
       " 0.3627254509018036,\n",
       " 0.3890020366598778,\n",
       " 0.46153846153846156,\n",
       " 0.43037974683544306,\n",
       " 0.4034749034749035,\n",
       " 0.3935969868173258,\n",
       " 0.35,\n",
       " 0.46511627906976744]"
      ]
     },
     "execution_count": 142,
     "metadata": {},
     "output_type": "execute_result"
    }
   ],
   "source": [
    "# SLG per season\n",
    "bc_slg10 = [None] * 10\n",
    "counter = 0\n",
    "for a in bcraw_stats:\n",
    "    singles = a[8] - (a[9] + a[10] + a[11])\n",
    "    bc_slg10[counter] = (singles + (2*a[9]) + (3*a[10]) + (4*a[11])) / (a[6])\n",
    "    counter += 1\n",
    "\n",
    "bc_slg10"
   ]
  },
  {
   "cell_type": "code",
   "execution_count": 147,
   "metadata": {},
   "outputs": [
    {
     "data": {
      "text/plain": [
       "[<matplotlib.lines.Line2D at 0x7feb88f83220>]"
      ]
     },
     "execution_count": 147,
     "metadata": {},
     "output_type": "execute_result"
    },
    {
     "data": {
      "text/plain": [
       "Text(0.5, 0, 'Season')"
      ]
     },
     "execution_count": 147,
     "metadata": {},
     "output_type": "execute_result"
    },
    {
     "data": {
      "text/plain": [
       "Text(0, 0.5, 'Slugging Percentage')"
      ]
     },
     "execution_count": 147,
     "metadata": {},
     "output_type": "execute_result"
    },
    {
     "data": {
      "text/plain": [
       "Text(0.5, 1.0, 'Brandon Crawford SLG, 2011-2020')"
      ]
     },
     "execution_count": 147,
     "metadata": {},
     "output_type": "execute_result"
    },
    {
     "data": {
      "image/png": "[encoded data removed]",
      "text/plain": [
       "<Figure size 432x288 with 1 Axes>"
      ]
     },
     "metadata": {
      "needs_background": "light"
     },
     "output_type": "display_data"
    }
   ],
   "source": [
    "# SLG over the years\n",
    "\n",
    "plt.plot(bc_yrs, bc_slg10)\n",
    "plt.xlabel(\"Season\")\n",
    "plt.ylabel(\"Slugging Percentage\")\n",
    "plt.title(\"Brandon Crawford SLG, 2011-2020\")\n",
    "plt.show()\n"
   ]
  },
  {
   "cell_type": "code",
   "execution_count": 149,
   "metadata": {},
   "outputs": [
    {
     "data": {
      "text/plain": [
       "[0.5835896002236511,\n",
       " 0.6532227557107522,\n",
       " 0.6742008607378691,\n",
       " 0.7128454530299846,\n",
       " 0.7823940765117237,\n",
       " 0.7722738078306277,\n",
       " 0.7087380613696403,\n",
       " 0.7185128117331507,\n",
       " 0.6535714285714285,\n",
       " 0.7915411495360887]"
      ]
     },
     "execution_count": 149,
     "metadata": {},
     "output_type": "execute_result"
    }
   ],
   "source": [
    "# OPS per season\n",
    "\n",
    "bc_ops10 = [None] * 10\n",
    "counter = 0\n",
    "for a in bc_obp10:\n",
    "    bc_ops10[counter] = bc_obp10[counter] + bc_slg10[counter]\n",
    "    counter += 1\n",
    "\n",
    "bc_ops10"
   ]
  },
  {
   "cell_type": "code",
   "execution_count": 150,
   "metadata": {},
   "outputs": [
    {
     "data": {
      "text/plain": [
       "[<matplotlib.lines.Line2D at 0x7feb8987c880>]"
      ]
     },
     "execution_count": 150,
     "metadata": {},
     "output_type": "execute_result"
    },
    {
     "data": {
      "text/plain": [
       "Text(0.5, 0, 'Season')"
      ]
     },
     "execution_count": 150,
     "metadata": {},
     "output_type": "execute_result"
    },
    {
     "data": {
      "text/plain": [
       "Text(0, 0.5, 'On Base Plus Slugging')"
      ]
     },
     "execution_count": 150,
     "metadata": {},
     "output_type": "execute_result"
    },
    {
     "data": {
      "text/plain": [
       "Text(0.5, 1.0, 'Brandon Crawford OPS, 2011-2020')"
      ]
     },
     "execution_count": 150,
     "metadata": {},
     "output_type": "execute_result"
    },
    {
     "data": {
      "image/png": "[encoded data removed]",
      "text/plain": [
       "<Figure size 432x288 with 1 Axes>"
      ]
     },
     "metadata": {
      "needs_background": "light"
     },
     "output_type": "display_data"
    }
   ],
   "source": [
    "# SLG over the years\n",
    "\n",
    "plt.plot(bc_yrs, bc_ops10)\n",
    "plt.xlabel(\"Season\")\n",
    "plt.ylabel(\"On Base Plus Slugging\")\n",
    "plt.title(\"Brandon Crawford OPS, 2011-2020\")\n",
    "plt.show()\n"
   ]
  },
  {
   "cell_type": "code",
   "execution_count": null,
   "metadata": {},
   "outputs": [],
   "source": []
  },
  {
   "cell_type": "code",
   "execution_count": null,
   "metadata": {},
   "outputs": [],
   "source": []
  }
 ],
 "metadata": {
  "interpreter": {
   "hash": "aee8b7b246df8f9039afb4144a1f6fd8d2ca17a180786b69acc140d282b71a49"
  },
  "kernelspec": {
   "display_name": "Python 3",
   "language": "python",
   "name": "python3"
  },
  "language_info": {
   "codemirror_mode": {
    "name": "ipython",
    "version": 3
   },
   "file_extension": ".py",
   "mimetype": "text/x-python",
   "name": "python",
   "nbconvert_exporter": "python",
   "pygments_lexer": "ipython3",
   "version": "3.8.3"
  }
 },
 "nbformat": 4,
 "nbformat_minor": 2
}
