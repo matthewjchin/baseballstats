{
 "cells": [
  {
   "cell_type": "markdown",
   "metadata": {},
   "source": [
    "# Slugging Percentages\n",
    "## Author: Matthew Chin (2021)\n",
    "\n",
    "**Data**\n",
    "https://github.com/chadwickbureau/baseballdatabank"
   ]
  },
  {
   "cell_type": "code",
   "execution_count": null,
   "metadata": {},
   "outputs": [],
   "source": [
    "# plotly standard imports\n",
    "import plotly.graph_objs as go\n",
    "import chart_studio.plotly as py\n",
    "\n",
    "# Cufflinks wrapper on plotly\n",
    "import cufflinks\n",
    "\n",
    "# Data science imports\n",
    "import pandas as pd\n",
    "import numpy as np\n",
    "\n",
    "# Options for pandas\n",
    "pd.options.display.max_columns = 999\n",
    "\n",
    "# Display all cell outputs\n",
    "from IPython.core.interactiveshell import InteractiveShell\n",
    "InteractiveShell.ast_node_interactivity = 'all'\n",
    "\n",
    "# from __future__ import print_function, division\n",
    "import matplotlib as mpl\n",
    "import matplotlib.pyplot as plt\n",
    "\n",
    "\n",
    "from plotly.offline import iplot\n",
    "cufflinks.go_offline()\n",
    "\n",
    "# Set global theme\n",
    "cufflinks.set_config_file(world_readable=True, theme='pearl')"
   ]
  },
  {
   "cell_type": "markdown",
   "metadata": {},
   "source": [
    "## Slugging Percentage\n",
    "\n",
    "A batter's slugging percentage involves not only how frequently but how far they get on base when they hit. When they go to bat and they get on base safely with a hit, it increases their chances at getting home. In that case, one's slugging percentage will go up if they hit a single, but goes even farther up if they get on safely with an extra base hit (XBH) or with a home run and touch all four bases. \n",
    "\n",
    "Extra base hits and home runs matter for the significance of one's slugging percentage because the power and speed of a batter are considered to know how many bases they touch per at-bat.  \n",
    "\n",
    "Walks or base on balls (BB) are not considered because they are not hits. \n",
    "\n",
    "The formula for slugging is as follows \n",
    "(Reference: https://www.mlb.com/glossary/standard-stats/slugging-percentage#:~:text=Definition,hits%20are%20not%20valued%20equally.):"
   ]
  },
  {
   "cell_type": "markdown",
   "metadata": {},
   "source": [
    "Let $1B$ be a single, $2B$ be a double, $3B$ be a triple, and $HR$ be a home run. \n",
    "\n",
    "The formula is:\n",
    "\n",
    "$SLG = \\frac{1B + (2\\times2B) + (3\\times3B )+ (4\\times HR)}{AB}$"
   ]
  },
  {
   "cell_type": "code",
   "execution_count": null,
   "metadata": {},
   "outputs": [],
   "source": [
    "# Get slugging percentages from Batting data\n",
    "slugpct = pd.read_csv(\"https://raw.githubusercontent.com/chadwickbureau/baseballdatabank/master/core/Batting.csv\",sep=',')"
   ]
  },
  {
   "cell_type": "code",
   "execution_count": null,
   "metadata": {},
   "outputs": [],
   "source": [
    "# Get batters who are sluggers from People data\n",
    "slugppl = pd.read_csv(\"https://raw.githubusercontent.com/chadwickbureau/baseballdatabank/master/core/People.csv\",sep=',')"
   ]
  },
  {
   "cell_type": "code",
   "execution_count": null,
   "metadata": {},
   "outputs": [],
   "source": [
    "# Sample of slugpct beginning or end values\n",
    "# Later cells are the most recent statistics\n",
    "\n",
    "# slugpct.head()\n",
    "slugpct.tail()"
   ]
  },
  {
   "cell_type": "code",
   "execution_count": null,
   "metadata": {},
   "outputs": [],
   "source": [
    "# Show dataframe values\n",
    "slugpct"
   ]
  },
  {
   "cell_type": "code",
   "execution_count": null,
   "metadata": {},
   "outputs": [],
   "source": [
    "# Print array values\n",
    "slugarr = slugpct.to_numpy()\n",
    "slugarr"
   ]
  },
  {
   "cell_type": "code",
   "execution_count": null,
   "metadata": {},
   "outputs": [],
   "source": [
    "# Keep these columns names\n",
    "slugpct.columns"
   ]
  },
  {
   "cell_type": "code",
   "execution_count": 8,
   "metadata": {},
   "outputs": [],
   "source": [
    "import csv\n",
    "fcsv = \"slugpctAL_2019.csv\"\n",
    "fcsv2 = \"slugpctNL_2019.csv\"\n",
    "mean_ba = \"mean_ba.csv\"\n",
    "# len(slugpct)\n",
    "# len(slugarr)"
   ]
  },
  {
   "cell_type": "markdown",
   "metadata": {},
   "source": [
    "<h1>Abbreviations</h1>\n",
    "\n",
    "G       Games played<br>\n",
    "AB      At-bats<br>\n",
    "R       Runs<br>\n",
    "H       Hits<br>\n",
    "B       Singles (1 base)<br>\n",
    "2B      Doubles (2 bases)<br>\n",
    "3B      Triples (3 bases)<br>\n",
    "HR      Home Runs (4 bases)<br>\n",
    "RBI     Runs Batted In<br>\n",
    "SB      Stolen Bases<br>\n",
    "CS      Caught Stealing<br>\n",
    "BB      Base on Balls/Walks<br>\n",
    "SO      Struck Out<br>\n",
    "IBB     Intentional Base on Balls/Intentional Walks<br>\n",
    "HBP     Hit By Pitch<br>\n",
    "SH      Sacrifice Bunt<br>\n",
    "SF      Sacrifice Fly<br>\n",
    "GIDP    Grounded Into Double Play<br>\n",
    "BA      Batting Average<br>\n",
    "SLG     Slugging Percentage<br>\n",
    "OBP     On-Base Percentage<br>\n",
    "OPS     On-base percentage Plus Slugging<br>\n"
   ]
  },
  {
   "cell_type": "code",
   "execution_count": null,
   "metadata": {},
   "outputs": [],
   "source": [
    "# Take 2019 data\n",
    "# Get data from American League (AL) in players with at least 50 ABs & 25 hits\n",
    "# Write to new CSV file called 'slugpct.csv'\n",
    "\n",
    "# # old columns:\n",
    "# 'playerID', 'yearID', 'stint', 'teamID', 'lgID', 'G', 'AB', 'R', 'H',\n",
    "#        '2B', '3B', 'HR', 'RBI', 'SB', 'CS', 'BB', 'SO', 'IBB', 'HBP', 'SH',\n",
    "#        'SF', 'GIDP'\n",
    "\n",
    "newrows = ['playerID', 'yearID', 'stint', 'teamID', 'lgID', 'G', 'AB', 'R', \n",
    "            'H', 'B', '2B', '3B', 'HR', 'RBI', 'SB', 'CS', \n",
    "            'BB', 'SO', 'IBB', 'HBP', 'SH', 'SF', 'GIDP', 'BA', 'SLG', 'OBP', 'OPS'\n",
    "            ]"
   ]
  },
  {
   "cell_type": "code",
   "execution_count": null,
   "metadata": {},
   "outputs": [],
   "source": [
    "# AL 2019 data\n",
    "# AL slugging pct in 2019 by players with at least 50 ABs & 25 hits\n",
    "\n",
    "with open(fcsv, 'w') as csvfile:\n",
    "    csvwriter = csv.writer(csvfile)\n",
    "    csvwriter.writerow(newrows)\n",
    "    for a in slugarr:\n",
    "        if a[1] == 2019 and a[4] == 'AL' and a[6] >= 50 and a[8] >= 25:\n",
    "            slg = ((a[8]-(a[9]+a[10]+a[11])) + (2*a[9]) + (3*a[10]) + (4*a[11]))/a[6]\n",
    "            bavg = a[8]/a[6]\n",
    "            obp = (a[8] + a[15] + a[18]) / (a[6] + a[15] + a[18] + a[20])\n",
    "            ops = obp + slg\n",
    "            csvwriter.writerow([a[0], a[1], a[2], a[3], a[4], a[5], a[6], a[7], a[8],\n",
    "                (a[8]-(a[9]+a[10]+a[11])), a[9], a[10], a[11], a[12], a[13], a[14], a[15], \n",
    "                a[16], a[17], a[18], a[19], a[20], a[21], \n",
    "                bavg, slg, obp, ops])"
   ]
  },
  {
   "cell_type": "code",
   "execution_count": null,
   "metadata": {},
   "outputs": [],
   "source": [
    "# AL 2019 data in Pandas dataframe\n",
    "\n",
    "al_sluggers = pd.read_csv(fcsv)\n",
    "# al_sluggers"
   ]
  },
  {
   "cell_type": "code",
   "execution_count": null,
   "metadata": {},
   "outputs": [],
   "source": [
    "# NL 2019 data\n",
    "# NL slugging pct in 2019 by players with at least 50 ABs & 25 hits\n",
    "\n",
    "\n",
    "with open(fcsv2, 'w') as csvfile:\n",
    "    csvwriter = csv.writer(csvfile)\n",
    "    csvwriter.writerow(newrows)\n",
    "    for a in slugarr:   \n",
    "        if a[1] == 2019 and a[4] == 'NL' and a[6] >= 50 and a[8] >= 25:\n",
    "            slg = ((a[8]-(a[9]+a[10]+a[11])) + (2*a[9]) + (3*a[10]) + (4*a[11]))/a[6]\n",
    "            bavg = a[8]/a[6]\n",
    "            obp = (a[8] + a[15] + a[18]) / (a[6] + a[15] + a[18] + a[20])\n",
    "            ops = obp + slg\n",
    "            csvwriter.writerow([a[0], a[1], a[2], a[3], a[4], a[5], a[6], a[7], a[8],\n",
    "                (a[8]-(a[9]+a[10]+a[11])), a[9], a[10], a[11], a[12], a[13], a[14], a[15], \n",
    "                a[16], a[17], a[18], a[19], a[20], a[21], \n",
    "                bavg, slg, obp, ops])"
   ]
  },
  {
   "cell_type": "code",
   "execution_count": null,
   "metadata": {},
   "outputs": [],
   "source": [
    "# NL 2019 data in Pandas dataframe\n",
    "\n",
    "nl_sluggers = pd.read_csv(fcsv2)\n",
    "# nl_sluggers"
   ]
  },
  {
   "cell_type": "code",
   "execution_count": null,
   "metadata": {},
   "outputs": [],
   "source": [
    "# Test Scatterplot 1\n",
    "%matplotlib inline\n",
    "\n",
    "plt.scatter(slugpct.H, slugpct.AB)"
   ]
  },
  {
   "cell_type": "code",
   "execution_count": null,
   "metadata": {},
   "outputs": [],
   "source": [
    "# Test scatterplot 2\n",
    "plt.xlabel(\"At Bats\")\n",
    "plt.ylabel(\"Hits\")\n",
    "plt.title(\"AL Batters Batting Average, 2019\")\n",
    "plt.scatter(al_sluggers.AB, al_sluggers.H)\n",
    "plt.show()"
   ]
  },
  {
   "cell_type": "code",
   "execution_count": 6,
   "metadata": {},
   "outputs": [
    {
     "data": {
      "text/html": [
       "<div>\n",
       "<style scoped>\n",
       "    .dataframe tbody tr th:only-of-type {\n",
       "        vertical-align: middle;\n",
       "    }\n",
       "\n",
       "    .dataframe tbody tr th {\n",
       "        vertical-align: top;\n",
       "    }\n",
       "\n",
       "    .dataframe thead th {\n",
       "        text-align: right;\n",
       "    }\n",
       "</style>\n",
       "<table border=\"1\" class=\"dataframe\">\n",
       "  <thead>\n",
       "    <tr style=\"text-align: right;\">\n",
       "      <th></th>\n",
       "      <th>playerID</th>\n",
       "      <th>yearID</th>\n",
       "      <th>stint</th>\n",
       "      <th>teamID</th>\n",
       "      <th>lgID</th>\n",
       "      <th>G</th>\n",
       "      <th>AB</th>\n",
       "      <th>R</th>\n",
       "      <th>H</th>\n",
       "      <th>2B</th>\n",
       "      <th>3B</th>\n",
       "      <th>HR</th>\n",
       "      <th>RBI</th>\n",
       "      <th>SB</th>\n",
       "      <th>CS</th>\n",
       "      <th>BB</th>\n",
       "      <th>SO</th>\n",
       "      <th>IBB</th>\n",
       "      <th>HBP</th>\n",
       "      <th>SH</th>\n",
       "      <th>SF</th>\n",
       "      <th>GIDP</th>\n",
       "    </tr>\n",
       "  </thead>\n",
       "  <tbody>\n",
       "    <tr>\n",
       "      <th>108784</th>\n",
       "      <td>zimmebr02</td>\n",
       "      <td>2020</td>\n",
       "      <td>1</td>\n",
       "      <td>BAL</td>\n",
       "      <td>AL</td>\n",
       "      <td>2</td>\n",
       "      <td>0</td>\n",
       "      <td>0</td>\n",
       "      <td>0</td>\n",
       "      <td>0</td>\n",
       "      <td>0</td>\n",
       "      <td>0</td>\n",
       "      <td>0.0</td>\n",
       "      <td>0.0</td>\n",
       "      <td>0.0</td>\n",
       "      <td>0</td>\n",
       "      <td>0.0</td>\n",
       "      <td>0.0</td>\n",
       "      <td>0.0</td>\n",
       "      <td>0.0</td>\n",
       "      <td>0.0</td>\n",
       "      <td>0.0</td>\n",
       "    </tr>\n",
       "    <tr>\n",
       "      <th>108785</th>\n",
       "      <td>zimmejo02</td>\n",
       "      <td>2020</td>\n",
       "      <td>1</td>\n",
       "      <td>DET</td>\n",
       "      <td>AL</td>\n",
       "      <td>3</td>\n",
       "      <td>0</td>\n",
       "      <td>0</td>\n",
       "      <td>0</td>\n",
       "      <td>0</td>\n",
       "      <td>0</td>\n",
       "      <td>0</td>\n",
       "      <td>0.0</td>\n",
       "      <td>0.0</td>\n",
       "      <td>0.0</td>\n",
       "      <td>0</td>\n",
       "      <td>0.0</td>\n",
       "      <td>0.0</td>\n",
       "      <td>0.0</td>\n",
       "      <td>0.0</td>\n",
       "      <td>0.0</td>\n",
       "      <td>0.0</td>\n",
       "    </tr>\n",
       "    <tr>\n",
       "      <th>108786</th>\n",
       "      <td>zimmeky01</td>\n",
       "      <td>2020</td>\n",
       "      <td>1</td>\n",
       "      <td>KCA</td>\n",
       "      <td>AL</td>\n",
       "      <td>16</td>\n",
       "      <td>0</td>\n",
       "      <td>0</td>\n",
       "      <td>0</td>\n",
       "      <td>0</td>\n",
       "      <td>0</td>\n",
       "      <td>0</td>\n",
       "      <td>0.0</td>\n",
       "      <td>0.0</td>\n",
       "      <td>0.0</td>\n",
       "      <td>0</td>\n",
       "      <td>0.0</td>\n",
       "      <td>0.0</td>\n",
       "      <td>0.0</td>\n",
       "      <td>0.0</td>\n",
       "      <td>0.0</td>\n",
       "      <td>0.0</td>\n",
       "    </tr>\n",
       "    <tr>\n",
       "      <th>108787</th>\n",
       "      <td>zuberty01</td>\n",
       "      <td>2020</td>\n",
       "      <td>1</td>\n",
       "      <td>KCA</td>\n",
       "      <td>AL</td>\n",
       "      <td>23</td>\n",
       "      <td>0</td>\n",
       "      <td>0</td>\n",
       "      <td>0</td>\n",
       "      <td>0</td>\n",
       "      <td>0</td>\n",
       "      <td>0</td>\n",
       "      <td>0.0</td>\n",
       "      <td>0.0</td>\n",
       "      <td>0.0</td>\n",
       "      <td>0</td>\n",
       "      <td>0.0</td>\n",
       "      <td>0.0</td>\n",
       "      <td>0.0</td>\n",
       "      <td>0.0</td>\n",
       "      <td>0.0</td>\n",
       "      <td>0.0</td>\n",
       "    </tr>\n",
       "    <tr>\n",
       "      <th>108788</th>\n",
       "      <td>zuninmi01</td>\n",
       "      <td>2020</td>\n",
       "      <td>1</td>\n",
       "      <td>TBA</td>\n",
       "      <td>AL</td>\n",
       "      <td>28</td>\n",
       "      <td>75</td>\n",
       "      <td>8</td>\n",
       "      <td>11</td>\n",
       "      <td>4</td>\n",
       "      <td>0</td>\n",
       "      <td>4</td>\n",
       "      <td>10.0</td>\n",
       "      <td>0.0</td>\n",
       "      <td>0.0</td>\n",
       "      <td>6</td>\n",
       "      <td>37.0</td>\n",
       "      <td>0.0</td>\n",
       "      <td>3.0</td>\n",
       "      <td>0.0</td>\n",
       "      <td>0.0</td>\n",
       "      <td>0.0</td>\n",
       "    </tr>\n",
       "  </tbody>\n",
       "</table>\n",
       "</div>"
      ],
      "text/plain": [
       "         playerID  yearID  stint teamID lgID   G  AB  R   H  2B  3B  HR   RBI  \\\n",
       "108784  zimmebr02    2020      1    BAL   AL   2   0  0   0   0   0   0   0.0   \n",
       "108785  zimmejo02    2020      1    DET   AL   3   0  0   0   0   0   0   0.0   \n",
       "108786  zimmeky01    2020      1    KCA   AL  16   0  0   0   0   0   0   0.0   \n",
       "108787  zuberty01    2020      1    KCA   AL  23   0  0   0   0   0   0   0.0   \n",
       "108788  zuninmi01    2020      1    TBA   AL  28  75  8  11   4   0   4  10.0   \n",
       "\n",
       "         SB   CS  BB    SO  IBB  HBP   SH   SF  GIDP  \n",
       "108784  0.0  0.0   0   0.0  0.0  0.0  0.0  0.0   0.0  \n",
       "108785  0.0  0.0   0   0.0  0.0  0.0  0.0  0.0   0.0  \n",
       "108786  0.0  0.0   0   0.0  0.0  0.0  0.0  0.0   0.0  \n",
       "108787  0.0  0.0   0   0.0  0.0  0.0  0.0  0.0   0.0  \n",
       "108788  0.0  0.0   6  37.0  0.0  3.0  0.0  0.0   0.0  "
      ]
     },
     "execution_count": 6,
     "metadata": {},
     "output_type": "execute_result"
    }
   ],
   "source": [
    "# slugpct.yearID\n",
    "# 150 years total\n",
    "yr = 1871 # First year statistics were recorded in baseball\n",
    "slugpct.tail()\n",
    "# slugarr"
   ]
  },
  {
   "cell_type": "code",
   "execution_count": 9,
   "metadata": {},
   "outputs": [
    {
     "data": {
      "text/plain": [
       "45"
      ]
     },
     "execution_count": 9,
     "metadata": {},
     "output_type": "execute_result"
    }
   ],
   "source": [
    "# avg_ba = [None] * 150\n",
    "avg_ba = 0\n",
    "pplct = 0\n",
    "add_ab = 0\n",
    "add_h = 0\n",
    "# yr_counter = 0\n",
    "\n",
    "with open(mean_ba, 'w') as csvfile:\n",
    "    csvwriter = csv.writer(csvfile)\n",
    "    csvwriter.writerow(['Year', 'Total Batters', 'Mean AB', 'Mean H', 'Mean BAVG'])\n",
    "    for a in slugarr:\n",
    "        if a[1] == yr and a[6] != 0 and a[8] != 0:\n",
    "\n",
    "\n",
    "        \n",
    "\n"
   ]
  },
  {
   "cell_type": "code",
   "execution_count": null,
   "metadata": {},
   "outputs": [],
   "source": [
    "\n",
    "\n",
    "\n",
    "    \n",
    "\n"
   ]
  },
  {
   "cell_type": "code",
   "execution_count": null,
   "metadata": {},
   "outputs": [],
   "source": [
    "\n",
    "\n"
   ]
  },
  {
   "cell_type": "code",
   "execution_count": null,
   "metadata": {},
   "outputs": [],
   "source": [
    "\n"
   ]
  },
  {
   "cell_type": "code",
   "execution_count": null,
   "metadata": {},
   "outputs": [],
   "source": []
  },
  {
   "cell_type": "code",
   "execution_count": null,
   "metadata": {},
   "outputs": [],
   "source": [
    "plt.plot(slugpct.yearID, slugpct.H/slugpct.AB)\n",
    "plt.title(\"Batting Average\")\n",
    "plt.show()\n"
   ]
  },
  {
   "cell_type": "code",
   "execution_count": null,
   "metadata": {},
   "outputs": [],
   "source": []
  },
  {
   "cell_type": "code",
   "execution_count": null,
   "metadata": {},
   "outputs": [],
   "source": []
  },
  {
   "cell_type": "code",
   "execution_count": null,
   "metadata": {},
   "outputs": [],
   "source": []
  },
  {
   "cell_type": "markdown",
   "metadata": {},
   "source": [
    "<h1>Slugging</h1>\n",
    "\n",
    "Slugging percentage is a batter's average of getting runners left on base home plate per at-bat. \n",
    "\n",
    "\n"
   ]
  },
  {
   "cell_type": "code",
   "execution_count": null,
   "metadata": {},
   "outputs": [],
   "source": []
  },
  {
   "cell_type": "code",
   "execution_count": null,
   "metadata": {},
   "outputs": [],
   "source": []
  },
  {
   "cell_type": "markdown",
   "metadata": {},
   "source": [
    "<h1>On-Base Percentage Plus Slugging (OPS)</h1>\n",
    "\n",
    "On-Base Percentage Plus Slugging"
   ]
  },
  {
   "cell_type": "code",
   "execution_count": null,
   "metadata": {},
   "outputs": [],
   "source": []
  },
  {
   "cell_type": "code",
   "execution_count": null,
   "metadata": {},
   "outputs": [],
   "source": []
  },
  {
   "cell_type": "code",
   "execution_count": null,
   "metadata": {},
   "outputs": [],
   "source": []
  }
 ],
 "metadata": {
  "interpreter": {
   "hash": "aee8b7b246df8f9039afb4144a1f6fd8d2ca17a180786b69acc140d282b71a49"
  },
  "kernelspec": {
   "display_name": "Python 3",
   "language": "python",
   "name": "python3"
  },
  "language_info": {
   "codemirror_mode": {
    "name": "ipython",
    "version": 3
   },
   "file_extension": ".py",
   "mimetype": "text/x-python",
   "name": "python",
   "nbconvert_exporter": "python",
   "pygments_lexer": "ipython3",
   "version": "3.8.3"
  }
 },
 "nbformat": 4,
 "nbformat_minor": 2
}
