{
 "cells": [
  {
   "cell_type": "code",
   "execution_count": 1,
   "metadata": {},
   "outputs": [],
   "source": [
    "# Using Python 3.8.3\n",
    "\n",
    "# DS libraries\n",
    "import pandas as pd\n",
    "import numpy as np\n",
    "\n",
    "# CSV readers\n",
    "import csv\n",
    "\n",
    "# Datavis: use matplotlib\n",
    "import matplotlib.pyplot as plt\n"
   ]
  },
  {
   "cell_type": "markdown",
   "metadata": {},
   "source": [
    "Data visualization of batting statistics in the world of Sabermetrics."
   ]
  },
  {
   "cell_type": "code",
   "execution_count": 2,
   "metadata": {},
   "outputs": [],
   "source": [
    "# Get the players and their batting stats (regular season only)\n",
    "batstats = pd.read_csv(\"https://raw.githubusercontent.com/chadwickbureau/baseballdatabank/master/core/Batting.csv\",sep=',')\n",
    "slugppl = pd.read_csv(\"https://raw.githubusercontent.com/chadwickbureau/baseballdatabank/master/core/People.csv\",sep=',')"
   ]
  },
  {
   "cell_type": "code",
   "execution_count": 4,
   "metadata": {},
   "outputs": [],
   "source": [
    "# slugppl.describe()"
   ]
  },
  {
   "cell_type": "code",
   "execution_count": 5,
   "metadata": {},
   "outputs": [],
   "source": [
    "# batstats.describe()\n",
    "# batstats"
   ]
  },
  {
   "cell_type": "code",
   "execution_count": 7,
   "metadata": {},
   "outputs": [],
   "source": [
    "# batstats.describe()"
   ]
  },
  {
   "cell_type": "code",
   "execution_count": 3,
   "metadata": {},
   "outputs": [
    {
     "data": {
      "image/png": "[encoded data removed]",
      "text/plain": [
       "<Figure size 432x288 with 1 Axes>"
      ]
     },
     "metadata": {
      "needs_background": "light"
     },
     "output_type": "display_data"
    }
   ],
   "source": [
    "plt.plot(batstats.yearID, batstats.HR)\n",
    "plt.xlabel(\"Season\")\n",
    "plt.ylabel(\"Home Runs Hit\")\n",
    "plt.title(\"Home Runs Hit in MLB, 1871-2020\")\n",
    "plt.show()"
   ]
  },
  {
   "cell_type": "code",
   "execution_count": 9,
   "metadata": {},
   "outputs": [
    {
     "data": {
      "text/plain": [
       "Index(['playerID', 'yearID', 'stint', 'teamID', 'lgID', 'G', 'AB', 'R', 'H',\n",
       "       '2B', '3B', 'HR', 'RBI', 'SB', 'CS', 'BB', 'SO', 'IBB', 'HBP', 'SH',\n",
       "       'SF', 'GIDP'],\n",
       "      dtype='object')"
      ]
     },
     "execution_count": 9,
     "metadata": {},
     "output_type": "execute_result"
    }
   ],
   "source": [
    "batstats.columns"
   ]
  },
  {
   "cell_type": "code",
   "execution_count": 4,
   "metadata": {},
   "outputs": [
    {
     "data": {
      "text/plain": [
       "array([['abercda01', 1871, 1, ..., nan, nan, 0.0],\n",
       "       ['addybo01', 1871, 1, ..., nan, nan, 0.0],\n",
       "       ['allisar01', 1871, 1, ..., nan, nan, 1.0],\n",
       "       ...,\n",
       "       ['zimmeky01', 2020, 1, ..., 0.0, 0.0, 0.0],\n",
       "       ['zuberty01', 2020, 1, ..., 0.0, 0.0, 0.0],\n",
       "       ['zuninmi01', 2020, 1, ..., 0.0, 0.0, 0.0]], dtype=object)"
      ]
     },
     "execution_count": 4,
     "metadata": {},
     "output_type": "execute_result"
    }
   ],
   "source": [
    "batstats_arr = batstats.to_numpy()\n",
    "batstats_arr"
   ]
  },
  {
   "cell_type": "code",
   "execution_count": 5,
   "metadata": {},
   "outputs": [],
   "source": [
    "pencehu_stats = pd.DataFrame(columns=['playerID', 'yearID', 'stint', 'teamID', 'lgID', 'G', 'AB', 'R', 'H',\n",
    "       '2B', '3B', 'HR', 'RBI', 'SB', 'CS', 'BB', 'SO', 'IBB', 'HBP', 'SH', 'SF', 'GIDP'])\n",
    "counter = 0\n",
    "\n",
    "for a in batstats_arr:\n",
    "    if a[0] == 'pencehu01':\n",
    "        pencehu_stats.loc[counter] = a\n",
    "        counter += 1\n"
   ]
  },
  {
   "cell_type": "code",
   "execution_count": 6,
   "metadata": {},
   "outputs": [
    {
     "data": {
      "text/html": [
       "<div>\n",
       "<style scoped>\n",
       "    .dataframe tbody tr th:only-of-type {\n",
       "        vertical-align: middle;\n",
       "    }\n",
       "\n",
       "    .dataframe tbody tr th {\n",
       "        vertical-align: top;\n",
       "    }\n",
       "\n",
       "    .dataframe thead th {\n",
       "        text-align: right;\n",
       "    }\n",
       "</style>\n",
       "<table border=\"1\" class=\"dataframe\">\n",
       "  <thead>\n",
       "    <tr style=\"text-align: right;\">\n",
       "      <th></th>\n",
       "      <th>playerID</th>\n",
       "      <th>yearID</th>\n",
       "      <th>stint</th>\n",
       "      <th>teamID</th>\n",
       "      <th>lgID</th>\n",
       "      <th>G</th>\n",
       "      <th>AB</th>\n",
       "      <th>R</th>\n",
       "      <th>H</th>\n",
       "      <th>2B</th>\n",
       "      <th>...</th>\n",
       "      <th>RBI</th>\n",
       "      <th>SB</th>\n",
       "      <th>CS</th>\n",
       "      <th>BB</th>\n",
       "      <th>SO</th>\n",
       "      <th>IBB</th>\n",
       "      <th>HBP</th>\n",
       "      <th>SH</th>\n",
       "      <th>SF</th>\n",
       "      <th>GIDP</th>\n",
       "    </tr>\n",
       "  </thead>\n",
       "  <tbody>\n",
       "    <tr>\n",
       "      <th>0</th>\n",
       "      <td>pencehu01</td>\n",
       "      <td>2007</td>\n",
       "      <td>1</td>\n",
       "      <td>HOU</td>\n",
       "      <td>NL</td>\n",
       "      <td>108</td>\n",
       "      <td>456</td>\n",
       "      <td>57</td>\n",
       "      <td>147</td>\n",
       "      <td>30</td>\n",
       "      <td>...</td>\n",
       "      <td>69.0</td>\n",
       "      <td>11.0</td>\n",
       "      <td>5.0</td>\n",
       "      <td>26</td>\n",
       "      <td>95.0</td>\n",
       "      <td>0.0</td>\n",
       "      <td>1.0</td>\n",
       "      <td>0.0</td>\n",
       "      <td>1.0</td>\n",
       "      <td>10.0</td>\n",
       "    </tr>\n",
       "    <tr>\n",
       "      <th>1</th>\n",
       "      <td>pencehu01</td>\n",
       "      <td>2008</td>\n",
       "      <td>1</td>\n",
       "      <td>HOU</td>\n",
       "      <td>NL</td>\n",
       "      <td>157</td>\n",
       "      <td>595</td>\n",
       "      <td>78</td>\n",
       "      <td>160</td>\n",
       "      <td>34</td>\n",
       "      <td>...</td>\n",
       "      <td>83.0</td>\n",
       "      <td>11.0</td>\n",
       "      <td>10.0</td>\n",
       "      <td>40</td>\n",
       "      <td>124.0</td>\n",
       "      <td>2.0</td>\n",
       "      <td>4.0</td>\n",
       "      <td>0.0</td>\n",
       "      <td>3.0</td>\n",
       "      <td>14.0</td>\n",
       "    </tr>\n",
       "    <tr>\n",
       "      <th>2</th>\n",
       "      <td>pencehu01</td>\n",
       "      <td>2009</td>\n",
       "      <td>1</td>\n",
       "      <td>HOU</td>\n",
       "      <td>NL</td>\n",
       "      <td>159</td>\n",
       "      <td>585</td>\n",
       "      <td>76</td>\n",
       "      <td>165</td>\n",
       "      <td>26</td>\n",
       "      <td>...</td>\n",
       "      <td>72.0</td>\n",
       "      <td>14.0</td>\n",
       "      <td>11.0</td>\n",
       "      <td>58</td>\n",
       "      <td>109.0</td>\n",
       "      <td>1.0</td>\n",
       "      <td>1.0</td>\n",
       "      <td>0.0</td>\n",
       "      <td>3.0</td>\n",
       "      <td>25.0</td>\n",
       "    </tr>\n",
       "    <tr>\n",
       "      <th>3</th>\n",
       "      <td>pencehu01</td>\n",
       "      <td>2010</td>\n",
       "      <td>1</td>\n",
       "      <td>HOU</td>\n",
       "      <td>NL</td>\n",
       "      <td>156</td>\n",
       "      <td>614</td>\n",
       "      <td>93</td>\n",
       "      <td>173</td>\n",
       "      <td>29</td>\n",
       "      <td>...</td>\n",
       "      <td>91.0</td>\n",
       "      <td>18.0</td>\n",
       "      <td>9.0</td>\n",
       "      <td>41</td>\n",
       "      <td>105.0</td>\n",
       "      <td>2.0</td>\n",
       "      <td>0.0</td>\n",
       "      <td>0.0</td>\n",
       "      <td>3.0</td>\n",
       "      <td>11.0</td>\n",
       "    </tr>\n",
       "    <tr>\n",
       "      <th>4</th>\n",
       "      <td>pencehu01</td>\n",
       "      <td>2011</td>\n",
       "      <td>1</td>\n",
       "      <td>HOU</td>\n",
       "      <td>NL</td>\n",
       "      <td>100</td>\n",
       "      <td>399</td>\n",
       "      <td>49</td>\n",
       "      <td>123</td>\n",
       "      <td>26</td>\n",
       "      <td>...</td>\n",
       "      <td>62.0</td>\n",
       "      <td>7.0</td>\n",
       "      <td>1.0</td>\n",
       "      <td>30</td>\n",
       "      <td>86.0</td>\n",
       "      <td>1.0</td>\n",
       "      <td>1.0</td>\n",
       "      <td>0.0</td>\n",
       "      <td>2.0</td>\n",
       "      <td>7.0</td>\n",
       "    </tr>\n",
       "    <tr>\n",
       "      <th>5</th>\n",
       "      <td>pencehu01</td>\n",
       "      <td>2011</td>\n",
       "      <td>2</td>\n",
       "      <td>PHI</td>\n",
       "      <td>NL</td>\n",
       "      <td>54</td>\n",
       "      <td>207</td>\n",
       "      <td>35</td>\n",
       "      <td>67</td>\n",
       "      <td>12</td>\n",
       "      <td>...</td>\n",
       "      <td>35.0</td>\n",
       "      <td>1.0</td>\n",
       "      <td>1.0</td>\n",
       "      <td>26</td>\n",
       "      <td>38.0</td>\n",
       "      <td>2.0</td>\n",
       "      <td>0.0</td>\n",
       "      <td>0.0</td>\n",
       "      <td>3.0</td>\n",
       "      <td>8.0</td>\n",
       "    </tr>\n",
       "    <tr>\n",
       "      <th>6</th>\n",
       "      <td>pencehu01</td>\n",
       "      <td>2012</td>\n",
       "      <td>1</td>\n",
       "      <td>PHI</td>\n",
       "      <td>NL</td>\n",
       "      <td>101</td>\n",
       "      <td>398</td>\n",
       "      <td>59</td>\n",
       "      <td>108</td>\n",
       "      <td>15</td>\n",
       "      <td>...</td>\n",
       "      <td>59.0</td>\n",
       "      <td>4.0</td>\n",
       "      <td>2.0</td>\n",
       "      <td>37</td>\n",
       "      <td>85.0</td>\n",
       "      <td>1.0</td>\n",
       "      <td>3.0</td>\n",
       "      <td>0.0</td>\n",
       "      <td>2.0</td>\n",
       "      <td>13.0</td>\n",
       "    </tr>\n",
       "    <tr>\n",
       "      <th>7</th>\n",
       "      <td>pencehu01</td>\n",
       "      <td>2012</td>\n",
       "      <td>2</td>\n",
       "      <td>SFN</td>\n",
       "      <td>NL</td>\n",
       "      <td>59</td>\n",
       "      <td>219</td>\n",
       "      <td>28</td>\n",
       "      <td>48</td>\n",
       "      <td>11</td>\n",
       "      <td>...</td>\n",
       "      <td>45.0</td>\n",
       "      <td>1.0</td>\n",
       "      <td>0.0</td>\n",
       "      <td>19</td>\n",
       "      <td>60.0</td>\n",
       "      <td>1.0</td>\n",
       "      <td>4.0</td>\n",
       "      <td>1.0</td>\n",
       "      <td>5.0</td>\n",
       "      <td>1.0</td>\n",
       "    </tr>\n",
       "    <tr>\n",
       "      <th>8</th>\n",
       "      <td>pencehu01</td>\n",
       "      <td>2013</td>\n",
       "      <td>1</td>\n",
       "      <td>SFN</td>\n",
       "      <td>NL</td>\n",
       "      <td>162</td>\n",
       "      <td>629</td>\n",
       "      <td>91</td>\n",
       "      <td>178</td>\n",
       "      <td>35</td>\n",
       "      <td>...</td>\n",
       "      <td>99.0</td>\n",
       "      <td>22.0</td>\n",
       "      <td>3.0</td>\n",
       "      <td>52</td>\n",
       "      <td>115.0</td>\n",
       "      <td>3.0</td>\n",
       "      <td>3.0</td>\n",
       "      <td>0.0</td>\n",
       "      <td>3.0</td>\n",
       "      <td>17.0</td>\n",
       "    </tr>\n",
       "    <tr>\n",
       "      <th>9</th>\n",
       "      <td>pencehu01</td>\n",
       "      <td>2014</td>\n",
       "      <td>1</td>\n",
       "      <td>SFN</td>\n",
       "      <td>NL</td>\n",
       "      <td>162</td>\n",
       "      <td>650</td>\n",
       "      <td>106</td>\n",
       "      <td>180</td>\n",
       "      <td>29</td>\n",
       "      <td>...</td>\n",
       "      <td>74.0</td>\n",
       "      <td>13.0</td>\n",
       "      <td>6.0</td>\n",
       "      <td>52</td>\n",
       "      <td>130.0</td>\n",
       "      <td>3.0</td>\n",
       "      <td>3.0</td>\n",
       "      <td>0.0</td>\n",
       "      <td>3.0</td>\n",
       "      <td>13.0</td>\n",
       "    </tr>\n",
       "    <tr>\n",
       "      <th>10</th>\n",
       "      <td>pencehu01</td>\n",
       "      <td>2015</td>\n",
       "      <td>1</td>\n",
       "      <td>SFN</td>\n",
       "      <td>NL</td>\n",
       "      <td>52</td>\n",
       "      <td>207</td>\n",
       "      <td>30</td>\n",
       "      <td>57</td>\n",
       "      <td>13</td>\n",
       "      <td>...</td>\n",
       "      <td>40.0</td>\n",
       "      <td>4.0</td>\n",
       "      <td>1.0</td>\n",
       "      <td>16</td>\n",
       "      <td>48.0</td>\n",
       "      <td>0.0</td>\n",
       "      <td>0.0</td>\n",
       "      <td>0.0</td>\n",
       "      <td>0.0</td>\n",
       "      <td>8.0</td>\n",
       "    </tr>\n",
       "    <tr>\n",
       "      <th>11</th>\n",
       "      <td>pencehu01</td>\n",
       "      <td>2016</td>\n",
       "      <td>1</td>\n",
       "      <td>SFN</td>\n",
       "      <td>NL</td>\n",
       "      <td>106</td>\n",
       "      <td>395</td>\n",
       "      <td>58</td>\n",
       "      <td>114</td>\n",
       "      <td>23</td>\n",
       "      <td>...</td>\n",
       "      <td>57.0</td>\n",
       "      <td>1.0</td>\n",
       "      <td>1.0</td>\n",
       "      <td>43</td>\n",
       "      <td>95.0</td>\n",
       "      <td>1.0</td>\n",
       "      <td>1.0</td>\n",
       "      <td>0.0</td>\n",
       "      <td>3.0</td>\n",
       "      <td>10.0</td>\n",
       "    </tr>\n",
       "    <tr>\n",
       "      <th>12</th>\n",
       "      <td>pencehu01</td>\n",
       "      <td>2017</td>\n",
       "      <td>1</td>\n",
       "      <td>SFN</td>\n",
       "      <td>NL</td>\n",
       "      <td>134</td>\n",
       "      <td>493</td>\n",
       "      <td>55</td>\n",
       "      <td>128</td>\n",
       "      <td>13</td>\n",
       "      <td>...</td>\n",
       "      <td>67.0</td>\n",
       "      <td>2.0</td>\n",
       "      <td>3.0</td>\n",
       "      <td>40</td>\n",
       "      <td>102.0</td>\n",
       "      <td>1.0</td>\n",
       "      <td>2.0</td>\n",
       "      <td>0.0</td>\n",
       "      <td>4.0</td>\n",
       "      <td>8.0</td>\n",
       "    </tr>\n",
       "    <tr>\n",
       "      <th>13</th>\n",
       "      <td>pencehu01</td>\n",
       "      <td>2018</td>\n",
       "      <td>1</td>\n",
       "      <td>SFN</td>\n",
       "      <td>NL</td>\n",
       "      <td>97</td>\n",
       "      <td>235</td>\n",
       "      <td>19</td>\n",
       "      <td>53</td>\n",
       "      <td>11</td>\n",
       "      <td>...</td>\n",
       "      <td>24.0</td>\n",
       "      <td>5.0</td>\n",
       "      <td>1.0</td>\n",
       "      <td>11</td>\n",
       "      <td>59.0</td>\n",
       "      <td>1.0</td>\n",
       "      <td>0.0</td>\n",
       "      <td>0.0</td>\n",
       "      <td>2.0</td>\n",
       "      <td>1.0</td>\n",
       "    </tr>\n",
       "    <tr>\n",
       "      <th>14</th>\n",
       "      <td>pencehu01</td>\n",
       "      <td>2019</td>\n",
       "      <td>1</td>\n",
       "      <td>TEX</td>\n",
       "      <td>AL</td>\n",
       "      <td>83</td>\n",
       "      <td>286</td>\n",
       "      <td>53</td>\n",
       "      <td>85</td>\n",
       "      <td>17</td>\n",
       "      <td>...</td>\n",
       "      <td>59.0</td>\n",
       "      <td>6.0</td>\n",
       "      <td>1.0</td>\n",
       "      <td>26</td>\n",
       "      <td>69.0</td>\n",
       "      <td>0.0</td>\n",
       "      <td>2.0</td>\n",
       "      <td>0.0</td>\n",
       "      <td>2.0</td>\n",
       "      <td>2.0</td>\n",
       "    </tr>\n",
       "    <tr>\n",
       "      <th>15</th>\n",
       "      <td>pencehu01</td>\n",
       "      <td>2020</td>\n",
       "      <td>1</td>\n",
       "      <td>SFN</td>\n",
       "      <td>NL</td>\n",
       "      <td>17</td>\n",
       "      <td>52</td>\n",
       "      <td>4</td>\n",
       "      <td>5</td>\n",
       "      <td>0</td>\n",
       "      <td>...</td>\n",
       "      <td>6.0</td>\n",
       "      <td>0.0</td>\n",
       "      <td>0.0</td>\n",
       "      <td>3</td>\n",
       "      <td>15.0</td>\n",
       "      <td>0.0</td>\n",
       "      <td>1.0</td>\n",
       "      <td>0.0</td>\n",
       "      <td>0.0</td>\n",
       "      <td>3.0</td>\n",
       "    </tr>\n",
       "  </tbody>\n",
       "</table>\n",
       "<p>16 rows × 22 columns</p>\n",
       "</div>"
      ],
      "text/plain": [
       "     playerID yearID stint teamID lgID    G   AB    R    H  2B  ...   RBI  \\\n",
       "0   pencehu01   2007     1    HOU   NL  108  456   57  147  30  ...  69.0   \n",
       "1   pencehu01   2008     1    HOU   NL  157  595   78  160  34  ...  83.0   \n",
       "2   pencehu01   2009     1    HOU   NL  159  585   76  165  26  ...  72.0   \n",
       "3   pencehu01   2010     1    HOU   NL  156  614   93  173  29  ...  91.0   \n",
       "4   pencehu01   2011     1    HOU   NL  100  399   49  123  26  ...  62.0   \n",
       "5   pencehu01   2011     2    PHI   NL   54  207   35   67  12  ...  35.0   \n",
       "6   pencehu01   2012     1    PHI   NL  101  398   59  108  15  ...  59.0   \n",
       "7   pencehu01   2012     2    SFN   NL   59  219   28   48  11  ...  45.0   \n",
       "8   pencehu01   2013     1    SFN   NL  162  629   91  178  35  ...  99.0   \n",
       "9   pencehu01   2014     1    SFN   NL  162  650  106  180  29  ...  74.0   \n",
       "10  pencehu01   2015     1    SFN   NL   52  207   30   57  13  ...  40.0   \n",
       "11  pencehu01   2016     1    SFN   NL  106  395   58  114  23  ...  57.0   \n",
       "12  pencehu01   2017     1    SFN   NL  134  493   55  128  13  ...  67.0   \n",
       "13  pencehu01   2018     1    SFN   NL   97  235   19   53  11  ...  24.0   \n",
       "14  pencehu01   2019     1    TEX   AL   83  286   53   85  17  ...  59.0   \n",
       "15  pencehu01   2020     1    SFN   NL   17   52    4    5   0  ...   6.0   \n",
       "\n",
       "      SB    CS  BB     SO  IBB  HBP   SH   SF  GIDP  \n",
       "0   11.0   5.0  26   95.0  0.0  1.0  0.0  1.0  10.0  \n",
       "1   11.0  10.0  40  124.0  2.0  4.0  0.0  3.0  14.0  \n",
       "2   14.0  11.0  58  109.0  1.0  1.0  0.0  3.0  25.0  \n",
       "3   18.0   9.0  41  105.0  2.0  0.0  0.0  3.0  11.0  \n",
       "4    7.0   1.0  30   86.0  1.0  1.0  0.0  2.0   7.0  \n",
       "5    1.0   1.0  26   38.0  2.0  0.0  0.0  3.0   8.0  \n",
       "6    4.0   2.0  37   85.0  1.0  3.0  0.0  2.0  13.0  \n",
       "7    1.0   0.0  19   60.0  1.0  4.0  1.0  5.0   1.0  \n",
       "8   22.0   3.0  52  115.0  3.0  3.0  0.0  3.0  17.0  \n",
       "9   13.0   6.0  52  130.0  3.0  3.0  0.0  3.0  13.0  \n",
       "10   4.0   1.0  16   48.0  0.0  0.0  0.0  0.0   8.0  \n",
       "11   1.0   1.0  43   95.0  1.0  1.0  0.0  3.0  10.0  \n",
       "12   2.0   3.0  40  102.0  1.0  2.0  0.0  4.0   8.0  \n",
       "13   5.0   1.0  11   59.0  1.0  0.0  0.0  2.0   1.0  \n",
       "14   6.0   1.0  26   69.0  0.0  2.0  0.0  2.0   2.0  \n",
       "15   0.0   0.0   3   15.0  0.0  1.0  0.0  0.0   3.0  \n",
       "\n",
       "[16 rows x 22 columns]"
      ]
     },
     "execution_count": 6,
     "metadata": {},
     "output_type": "execute_result"
    }
   ],
   "source": [
    "# Hunter Pence statistics, 2007-2020 (14 seasons)\n",
    "pencehu_stats"
   ]
  },
  {
   "cell_type": "code",
   "execution_count": 7,
   "metadata": {},
   "outputs": [
    {
     "data": {
      "text/html": [
       "<div>\n",
       "<style scoped>\n",
       "    .dataframe tbody tr th:only-of-type {\n",
       "        vertical-align: middle;\n",
       "    }\n",
       "\n",
       "    .dataframe tbody tr th {\n",
       "        vertical-align: top;\n",
       "    }\n",
       "\n",
       "    .dataframe thead th {\n",
       "        text-align: right;\n",
       "    }\n",
       "</style>\n",
       "<table border=\"1\" class=\"dataframe\">\n",
       "  <thead>\n",
       "    <tr style=\"text-align: right;\">\n",
       "      <th></th>\n",
       "      <th>RBI</th>\n",
       "      <th>SB</th>\n",
       "      <th>CS</th>\n",
       "      <th>SO</th>\n",
       "      <th>IBB</th>\n",
       "      <th>HBP</th>\n",
       "      <th>SH</th>\n",
       "      <th>SF</th>\n",
       "      <th>GIDP</th>\n",
       "    </tr>\n",
       "  </thead>\n",
       "  <tbody>\n",
       "    <tr>\n",
       "      <th>count</th>\n",
       "      <td>16.000000</td>\n",
       "      <td>16.00000</td>\n",
       "      <td>16.000000</td>\n",
       "      <td>16.000000</td>\n",
       "      <td>16.000000</td>\n",
       "      <td>16.000000</td>\n",
       "      <td>16.0000</td>\n",
       "      <td>16.000000</td>\n",
       "      <td>16.000000</td>\n",
       "    </tr>\n",
       "    <tr>\n",
       "      <th>mean</th>\n",
       "      <td>58.875000</td>\n",
       "      <td>7.50000</td>\n",
       "      <td>3.437500</td>\n",
       "      <td>83.437500</td>\n",
       "      <td>1.187500</td>\n",
       "      <td>1.625000</td>\n",
       "      <td>0.0625</td>\n",
       "      <td>2.437500</td>\n",
       "      <td>9.437500</td>\n",
       "    </tr>\n",
       "    <tr>\n",
       "      <th>std</th>\n",
       "      <td>24.410039</td>\n",
       "      <td>6.65332</td>\n",
       "      <td>3.669128</td>\n",
       "      <td>32.565767</td>\n",
       "      <td>0.981071</td>\n",
       "      <td>1.408309</td>\n",
       "      <td>0.2500</td>\n",
       "      <td>1.314978</td>\n",
       "      <td>6.324226</td>\n",
       "    </tr>\n",
       "    <tr>\n",
       "      <th>min</th>\n",
       "      <td>6.000000</td>\n",
       "      <td>0.00000</td>\n",
       "      <td>0.000000</td>\n",
       "      <td>15.000000</td>\n",
       "      <td>0.000000</td>\n",
       "      <td>0.000000</td>\n",
       "      <td>0.0000</td>\n",
       "      <td>0.000000</td>\n",
       "      <td>1.000000</td>\n",
       "    </tr>\n",
       "    <tr>\n",
       "      <th>25%</th>\n",
       "      <td>43.750000</td>\n",
       "      <td>1.75000</td>\n",
       "      <td>1.000000</td>\n",
       "      <td>59.750000</td>\n",
       "      <td>0.750000</td>\n",
       "      <td>0.750000</td>\n",
       "      <td>0.0000</td>\n",
       "      <td>2.000000</td>\n",
       "      <td>6.000000</td>\n",
       "    </tr>\n",
       "    <tr>\n",
       "      <th>50%</th>\n",
       "      <td>60.500000</td>\n",
       "      <td>5.50000</td>\n",
       "      <td>1.500000</td>\n",
       "      <td>90.500000</td>\n",
       "      <td>1.000000</td>\n",
       "      <td>1.000000</td>\n",
       "      <td>0.0000</td>\n",
       "      <td>3.000000</td>\n",
       "      <td>9.000000</td>\n",
       "    </tr>\n",
       "    <tr>\n",
       "      <th>75%</th>\n",
       "      <td>72.500000</td>\n",
       "      <td>11.50000</td>\n",
       "      <td>5.250000</td>\n",
       "      <td>106.000000</td>\n",
       "      <td>2.000000</td>\n",
       "      <td>3.000000</td>\n",
       "      <td>0.0000</td>\n",
       "      <td>3.000000</td>\n",
       "      <td>13.000000</td>\n",
       "    </tr>\n",
       "    <tr>\n",
       "      <th>max</th>\n",
       "      <td>99.000000</td>\n",
       "      <td>22.00000</td>\n",
       "      <td>11.000000</td>\n",
       "      <td>130.000000</td>\n",
       "      <td>3.000000</td>\n",
       "      <td>4.000000</td>\n",
       "      <td>1.0000</td>\n",
       "      <td>5.000000</td>\n",
       "      <td>25.000000</td>\n",
       "    </tr>\n",
       "  </tbody>\n",
       "</table>\n",
       "</div>"
      ],
      "text/plain": [
       "             RBI        SB         CS          SO        IBB        HBP  \\\n",
       "count  16.000000  16.00000  16.000000   16.000000  16.000000  16.000000   \n",
       "mean   58.875000   7.50000   3.437500   83.437500   1.187500   1.625000   \n",
       "std    24.410039   6.65332   3.669128   32.565767   0.981071   1.408309   \n",
       "min     6.000000   0.00000   0.000000   15.000000   0.000000   0.000000   \n",
       "25%    43.750000   1.75000   1.000000   59.750000   0.750000   0.750000   \n",
       "50%    60.500000   5.50000   1.500000   90.500000   1.000000   1.000000   \n",
       "75%    72.500000  11.50000   5.250000  106.000000   2.000000   3.000000   \n",
       "max    99.000000  22.00000  11.000000  130.000000   3.000000   4.000000   \n",
       "\n",
       "            SH         SF       GIDP  \n",
       "count  16.0000  16.000000  16.000000  \n",
       "mean    0.0625   2.437500   9.437500  \n",
       "std     0.2500   1.314978   6.324226  \n",
       "min     0.0000   0.000000   1.000000  \n",
       "25%     0.0000   2.000000   6.000000  \n",
       "50%     0.0000   3.000000   9.000000  \n",
       "75%     0.0000   3.000000  13.000000  \n",
       "max     1.0000   5.000000  25.000000  "
      ]
     },
     "execution_count": 7,
     "metadata": {},
     "output_type": "execute_result"
    }
   ],
   "source": [
    "pencehu_stats.describe()"
   ]
  },
  {
   "cell_type": "code",
   "execution_count": 8,
   "metadata": {},
   "outputs": [
    {
     "data": {
      "image/png": "[encoded data removed]",
      "text/plain": [
       "<Figure size 432x288 with 1 Axes>"
      ]
     },
     "metadata": {
      "needs_background": "light"
     },
     "output_type": "display_data"
    }
   ],
   "source": [
    "plt.bar(pencehu_stats.yearID, pencehu_stats.HR)\n",
    "plt.xlabel(\"Season\")\n",
    "plt.ylabel(\"Home Runs\")\n",
    "plt.title(\"Hunter Pence Career Home Runs by Season\")\n",
    "plt.show()"
   ]
  },
  {
   "cell_type": "code",
   "execution_count": 9,
   "metadata": {},
   "outputs": [
    {
     "data": {
      "image/png": "[encoded data removed]",
      "text/plain": [
       "<Figure size 432x288 with 1 Axes>"
      ]
     },
     "metadata": {
      "needs_background": "light"
     },
     "output_type": "display_data"
    }
   ],
   "source": [
    "plt.scatter(pencehu_stats.H, pencehu_stats.AB)\n",
    "plt.xlabel(\"At Bats\")\n",
    "plt.ylabel(\"Hits\")\n",
    "plt.title(\"Hunter Pence Relationship of Hits to At-Bats by Season\")\n",
    "plt.show()"
   ]
  },
  {
   "cell_type": "code",
   "execution_count": 10,
   "metadata": {},
   "outputs": [
    {
     "data": {
      "text/plain": [
       "0     56\n",
       "1     63\n",
       "2     56\n",
       "3     57\n",
       "4     40\n",
       "5     25\n",
       "6     34\n",
       "7     20\n",
       "8     67\n",
       "9     59\n",
       "10    23\n",
       "11    37\n",
       "12    31\n",
       "13    16\n",
       "14    36\n",
       "15     3\n",
       "dtype: object"
      ]
     },
     "execution_count": 10,
     "metadata": {},
     "output_type": "execute_result"
    }
   ],
   "source": [
    "# Take extra-base hit (XBH) stats\n",
    "pence_xbh = pencehu_stats[\"HR\"] + pencehu_stats[\"2B\"] + pencehu_stats[\"3B\"]\n",
    "pence_xbh"
   ]
  },
  {
   "cell_type": "code",
   "execution_count": 11,
   "metadata": {},
   "outputs": [
    {
     "data": {
      "image/png": "[encoded data removed]",
      "text/plain": [
       "<Figure size 432x288 with 1 Axes>"
      ]
     },
     "metadata": {
      "needs_background": "light"
     },
     "output_type": "display_data"
    }
   ],
   "source": [
    "plt.plot(pencehu_stats.yearID, (pencehu_stats.H/pencehu_stats.AB))\n",
    "plt.title(\"Hunter Pence Batting Average\")\n",
    "plt.xlabel(\"Season\")\n",
    "plt.ylabel(\"Batting Average\")\n",
    "plt.show()"
   ]
  },
  {
   "cell_type": "code",
   "execution_count": 12,
   "metadata": {},
   "outputs": [
    {
     "data": {
      "image/png": "[encoded data removed]",
      "text/plain": [
       "<Figure size 432x288 with 1 Axes>"
      ]
     },
     "metadata": {
      "needs_background": "light"
     },
     "output_type": "display_data"
    }
   ],
   "source": [
    "plt.bar(pencehu_stats.yearID, (pencehu_stats.H/pencehu_stats.AB))\n",
    "plt.title(\"Hunter Pence Batting Average\")\n",
    "plt.xlabel(\"Season\")\n",
    "plt.ylabel(\"Batting Average\")\n",
    "plt.show()"
   ]
  },
  {
   "cell_type": "code",
   "execution_count": 13,
   "metadata": {},
   "outputs": [
    {
     "data": {
      "text/plain": [
       "111.9375"
      ]
     },
     "execution_count": 13,
     "metadata": {},
     "output_type": "execute_result"
    }
   ],
   "source": [
    "pencehu_stats.H.mean()"
   ]
  },
  {
   "cell_type": "code",
   "execution_count": 14,
   "metadata": {},
   "outputs": [
    {
     "data": {
      "text/plain": [
       "15.25"
      ]
     },
     "execution_count": 14,
     "metadata": {},
     "output_type": "execute_result"
    }
   ],
   "source": [
    "pencehu_stats.HR.mean()"
   ]
  },
  {
   "cell_type": "code",
   "execution_count": 19,
   "metadata": {},
   "outputs": [
    {
     "data": {
      "text/plain": [
       "20.25"
      ]
     },
     "execution_count": 19,
     "metadata": {},
     "output_type": "execute_result"
    }
   ],
   "source": [
    "pencehu_stats['2B'].mean()"
   ]
  },
  {
   "cell_type": "code",
   "execution_count": 21,
   "metadata": {},
   "outputs": [
    {
     "data": {
      "text/plain": [
       "3.4375"
      ]
     },
     "execution_count": 21,
     "metadata": {},
     "output_type": "execute_result"
    }
   ],
   "source": [
    "pencehu_stats['3B'].mean()"
   ]
  },
  {
   "cell_type": "code",
   "execution_count": 22,
   "metadata": {},
   "outputs": [
    {
     "data": {
      "text/plain": [
       "58.875"
      ]
     },
     "execution_count": 22,
     "metadata": {},
     "output_type": "execute_result"
    }
   ],
   "source": [
    "pencehu_stats['RBI'].mean()"
   ]
  },
  {
   "cell_type": "code",
   "execution_count": null,
   "metadata": {},
   "outputs": [],
   "source": []
  }
 ],
 "metadata": {
  "interpreter": {
   "hash": "510211a358bee591c079ad379252538b7a3e7674a2d1c83fcb989ad163683766"
  },
  "kernelspec": {
   "display_name": "Python 3.8.3 64-bit ('base': conda)",
   "language": "python",
   "name": "python3"
  },
  "language_info": {
   "codemirror_mode": {
    "name": "ipython",
    "version": 3
   },
   "file_extension": ".py",
   "mimetype": "text/x-python",
   "name": "python",
   "nbconvert_exporter": "python",
   "pygments_lexer": "ipython3",
   "version": "3.8.3"
  },
  "orig_nbformat": 4
 },
 "nbformat": 4,
 "nbformat_minor": 2
}
