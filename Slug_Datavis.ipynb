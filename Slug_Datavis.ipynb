{
 "cells": [
  {
   "cell_type": "code",
   "execution_count": null,
   "metadata": {},
   "outputs": [],
   "source": [
    "# Using Python 3.8.3\n",
    "\n",
    "# DS libraries\n",
    "import pandas as pd\n",
    "import numpy as np\n",
    "\n",
    "# CSV readers\n",
    "import csv\n",
    "\n",
    "# Datavis: use matplotlib\n",
    "import matplotlib.pyplot as plt\n"
   ]
  },
  {
   "cell_type": "code",
   "execution_count": null,
   "metadata": {},
   "outputs": [],
   "source": [
    "# Get the players and their batting stats (regular season only)\n",
    "batstats = pd.read_csv(\"https://raw.githubusercontent.com/chadwickbureau/baseballdatabank/master/core/Batting.csv\",sep=',')\n",
    "slugppl = pd.read_csv(\"https://raw.githubusercontent.com/chadwickbureau/baseballdatabank/master/core/People.csv\",sep=',')"
   ]
  },
  {
   "cell_type": "code",
   "execution_count": null,
   "metadata": {},
   "outputs": [],
   "source": [
    "slugppl.describe()"
   ]
  },
  {
   "cell_type": "code",
   "execution_count": null,
   "metadata": {},
   "outputs": [],
   "source": [
    "# batstats.describe()\n",
    "batstats"
   ]
  },
  {
   "cell_type": "code",
   "execution_count": null,
   "metadata": {},
   "outputs": [],
   "source": [
    "batstats.describe()"
   ]
  },
  {
   "cell_type": "code",
   "execution_count": null,
   "metadata": {},
   "outputs": [],
   "source": [
    "plt.plot(batstats.yearID, batstats.HR)\n",
    "plt.xlabel(\"Season\")\n",
    "plt.ylabel(\"Home Runs Hit\")\n",
    "plt.title(\"Home Runs Hit in MLB, 1871-2020\")\n",
    "plt.show()"
   ]
  },
  {
   "cell_type": "code",
   "execution_count": null,
   "metadata": {},
   "outputs": [],
   "source": [
    "batstats.columns"
   ]
  },
  {
   "cell_type": "code",
   "execution_count": null,
   "metadata": {},
   "outputs": [],
   "source": [
    "batstats_arr = batstats.to_numpy()\n",
    "batstats_arr"
   ]
  },
  {
   "cell_type": "code",
   "execution_count": null,
   "metadata": {},
   "outputs": [],
   "source": [
    "pencehu_stats = pd.DataFrame(columns=['playerID', 'yearID', 'stint', 'teamID', 'lgID', 'G', 'AB', 'R', 'H',\n",
    "       '2B', '3B', 'HR', 'RBI', 'SB', 'CS', 'BB', 'SO', 'IBB', 'HBP', 'SH',\n",
    "       'SF', 'GIDP']\n",
    ")\n",
    "counter = 0\n",
    "\n",
    "for a in batstats_arr:\n",
    "    if a[0] == 'pencehu01':\n",
    "        # pencehu_stats[counter] = a\n",
    "        # print(a)\n",
    "        # print(type(a))\n",
    "    \n",
    "        # pencehu_stats.append(a)\n",
    "        counter += 1\n",
    "\n"
   ]
  },
  {
   "cell_type": "code",
   "execution_count": null,
   "metadata": {},
   "outputs": [],
   "source": [
    "pencehu_stats"
   ]
  },
  {
   "cell_type": "code",
   "execution_count": null,
   "metadata": {},
   "outputs": [],
   "source": [
    "print(\"Hello\")"
   ]
  },
  {
   "cell_type": "code",
   "execution_count": null,
   "metadata": {},
   "outputs": [],
   "source": []
  },
  {
   "cell_type": "code",
   "execution_count": null,
   "metadata": {},
   "outputs": [],
   "source": []
  }
 ],
 "metadata": {
  "interpreter": {
   "hash": "510211a358bee591c079ad379252538b7a3e7674a2d1c83fcb989ad163683766"
  },
  "kernelspec": {
   "display_name": "Python 3.8.3 64-bit ('base': conda)",
   "language": "python",
   "name": "python3"
  },
  "language_info": {
   "codemirror_mode": {
    "name": "ipython",
    "version": 3
   },
   "file_extension": ".py",
   "mimetype": "text/x-python",
   "name": "python",
   "nbconvert_exporter": "python",
   "pygments_lexer": "ipython3",
   "version": "3.8.3"
  },
  "orig_nbformat": 4
 },
 "nbformat": 4,
 "nbformat_minor": 2
}
